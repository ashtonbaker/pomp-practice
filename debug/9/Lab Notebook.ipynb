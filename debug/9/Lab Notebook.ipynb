{
 "cells": [
  {
   "cell_type": "markdown",
   "metadata": {},
   "source": [
    "## Load Packages"
   ]
  },
  {
   "cell_type": "code",
   "execution_count": null,
   "metadata": {
    "collapsed": false
   },
   "outputs": [],
   "source": [
    "library(ggplot2)\n",
    "library(plyr)\n",
    "library(reshape2)\n",
    "library(pomp)\n",
    "library(magrittr)\n",
    "library(reshape2)\n",
    "library(foreach)\n",
    "stopifnot(packageVersion(\"pomp\")>=\"1.4.9\")"
   ]
  },
  {
   "cell_type": "markdown",
   "metadata": {},
   "source": [
    "## Base model in **pomp**\n",
    "We begin by importing the data for the experiment. We will initially load only the data for rep 4 into the **pomp** object. Later, we will describe a function that incorporates all of the data to estimate parameters."
   ]
  },
  {
   "cell_type": "code",
   "execution_count": null,
   "metadata": {
    "collapsed": false
   },
   "outputs": [],
   "source": [
    "read.csv(\"./data/data.csv\") %>%subset(weeks <= 40, select=c(weeks,rep,L_obs,P_obs,A_obs)) -> dat\n",
    "head(dat)"
   ]
  },
  {
   "cell_type": "code",
   "execution_count": null,
   "metadata": {
    "collapsed": false
   },
   "outputs": [],
   "source": [
    "LPA_model <- pomp(data = subset(dat, rep==4),\n",
    "              times = \"weeks\", t0 = 0);"
   ]
  },
  {
   "cell_type": "markdown",
   "metadata": {},
   "source": [
    "## LPA model\n",
    "Individuals are categorized as either larvae, pupae, or adults. At time $t$, the number of each is given by $L_t$, $P_t$ and $A_t$, respectively. The time unit is 2 weeks, which is the average amount of time spent in the larval stage in this experiment.\n",
    "\n",
    "Eggs are produced at a rate proportional to the number of adults. Eggs are cannibalized by larvae at a rate $c_{el}$, and by adults at a rate $c_{ea}$. So, the probability of an egg surviving 1 time unit in the presence of $L$ larvae is $\\exp(-c_{el}L)$. Likewise, the probability of an egg surving 1 time unit in the presence of $A$ adults is $\\exp(-c_{ea}A)$.\n",
    "\n",
    "Larvae have a mortality rate of $\\mu_l$ over the course of 2 weeks. If they survive, we assume they become pupae. Pupae are cannibalized by adults at a rate of $-c_{pa}$. So the probability that a pupa will survive 1 time unit in the presence of A adults is $\\exp(-c_{pa} A)$. If they survive, we assume they become adults. - Adults have a mortality rate of $\\mu_A$ over the course of 1 time unit.\n",
    "\n",
    "Thus, the full LPA model is\n",
    "\n",
    "$$\\begin{aligned}\n",
    "L_t &= b A_{t-1} \\exp{(-c_{el} L_{t-1} - c_{ea} A_{t-1})} \\\\\n",
    "P_t &= L_{t-1} (1 - \\mu_1) \\\\\n",
    "A_t &= P_{t-1} \\exp{(-c_{pa} A_{t-1})} + A_{t-1}(1 - \\mu_a)\n",
    "\\end{aligned}$$\n",
    "\n",
    "We can use this as the deterministic skeleton of a **pomp** model:"
   ]
  },
  {
   "cell_type": "code",
   "execution_count": null,
   "metadata": {
    "collapsed": false
   },
   "outputs": [],
   "source": [
    "skel <- Csnippet(' DL = b * A * exp(-cel * L - cea * A);\n",
    "                   DP = L * (1 - ul);\n",
    "                   DA = P * exp(-cpa * A) + A * (1 - ua);');\n",
    "LPA_model <- pomp(LPA_model,\n",
    "    skeleton = map(skel, delta.t=2),\n",
    "    statenames = c('L', 'P', 'A'),\n",
    "    paramnames = c('b', 'cel', 'cea', 'cpa', 'ua', 'ul'));"
   ]
  },
  {
   "cell_type": "markdown",
   "metadata": {},
   "source": [
    "Each experimental repetition was initialized by placing 250 larvae, 5 pupae, and 100 adults in a jar. So we simply initialize our process with the following `Csnippet`:"
   ]
  },
  {
   "cell_type": "code",
   "execution_count": null,
   "metadata": {
    "collapsed": false
   },
   "outputs": [],
   "source": [
    "init <- Csnippet(' L = 250;\n",
    "                   P = 5;\n",
    "                   A = 100;');"
   ]
  },
  {
   "cell_type": "markdown",
   "metadata": {},
   "source": [
    "To incorporate stochasticity to our model, we need to specify a function for $f_{X_n | X_{n - 1}}$. Dennis et al begin with the LPA model specified above, and modify it as follows.\n",
    "\n",
    "* $L_t$ is Poisson distributed with mean $b a_{t-1} \\exp{(-c_{el} l_{t-1} - c_{ea} a_{t-1})}$.\n",
    "* Each larva is given a probability $(1 - \\mu_l)$ of surviving a 2-week period, at which point we assume it becomes a pupa. Therefore, $P_t$ is binomial distributed with $n = l_{t-1}$ and $p = (1 - \\mu_l)$.\n",
    "* Over a 2-week period, we assume that each pupa either survives to become an adult, or dies. Since pupae are cannibalized by adults, the survival probaility is $\\exp(-c_{pa}a_{t-1})$. The survivors are called \"recruits\", and given by $R_t$.\n",
    "* Over a 2-week period, we assume that adult beetles survive with probability $(1 - \\mu_a)$. Thus, the number of survivors $S_t$ is binomially distributed.\n",
    "\n",
    "$$\\begin{aligned}\n",
    "L_t &= \\text{Poisson}(ba_{t-1} \\exp[-c_{el}l_{t-1} - c_{ea}a_{t-1}])\\\\\n",
    "P_t &= \\text{binomial}(l_{t - 1}, (1 - \\mu_l)) \\\\\n",
    "R_t &= \\text{binomial}(p_{t-1}, \\exp[-c_{pa}a_{t-1}]) \\\\\n",
    "S_t &= \\text{binomial}(a_{t-1}, [1 - \\mu_a]) \\\\\n",
    "A_t &= R_t + S_t\n",
    "\\end{aligned}$$\n",
    "\n",
    "We can write a Csnippet to simulate this process as follows:"
   ]
  },
  {
   "cell_type": "code",
   "execution_count": null,
   "metadata": {
    "collapsed": false
   },
   "outputs": [],
   "source": [
    "rproc <- discrete.time.sim( \n",
    "         step.fun=Csnippet(' L = rpois(b * A * exp(-cel * L - cea * A));\n",
    "                             P = rbinom(L, (1 - mu_L));\n",
    "                             int R = rbinom(P, exp(-cpa * A));\n",
    "                             int S = rbinom(A, (1 - mu_A));\n",
    "                             A = R + S;'),\n",
    "         delta.t=2);"
   ]
  },
  {
   "cell_type": "markdown",
   "metadata": {},
   "source": [
    "We assume the measurement error is negligable, and therefore make no attempt to model it. As a result, our `rmeasure` function simply assigns the value of the $L$, $P$, and $A$ states to the respective observation values."
   ]
  },
  {
   "cell_type": "markdown",
   "metadata": {},
   "source": [
    "$$\\begin{aligned}\n",
    "\\sqrt{L_t} &= \\sqrt{bA_{t-1} \\exp(-c_{el} L_{t-1} - c_{ea} A_{t-1})} + E_{1t}\\\\\n",
    "\\sqrt{P_t} &= \\sqrt{L_{t-1}(1 - \\mu_l)} + E_{2t}\\\\\n",
    "\\sqrt{A_t} &= \\sqrt{P_{t-1} exp(-c_{pa}A_{t-1}) + A_{t-1}(1 - \\mu_a)} + E_{3t}\\\\\n",
    "\\end{aligned}$$"
   ]
  },
  {
   "cell_type": "code",
   "execution_count": null,
   "metadata": {
    "collapsed": true
   },
   "outputs": [],
   "source": [
    "rmeas <- Csnippet(\"\n",
    "                    L_obs = L;\n",
    "                    P_obs = P;\n",
    "                    A_obs = A;\");"
   ]
  },
  {
   "cell_type": "code",
   "execution_count": null,
   "metadata": {
    "collapsed": false
   },
   "outputs": [],
   "source": [
    "rproc <- discrete.time.sim( \n",
    "         step.fun=Csnippet(' double e1 = rnorm(0,sigma_1);\n",
    "                             double e2 = rnorm(0,sigma_2);\n",
    "                             double e3 = rnorm(0,sigma_3);\n",
    "                             L = (sqrt(b * A * exp(-cel * L - cea * A)) + e1)*(sqrt(b * A * exp(-cel * L - cea * A)) + e1);\n",
    "                             P = (sqrt(L * (1 - ul)) + e2)*(sqrt(L * (1 - ul)) + e2);\n",
    "                             A = (sqrt(P * exp(-cpa * A) + A * (1 - ua)) + e3)*(sqrt(P * exp(-cpa * A) + A * (1 - ua)) + e3);'),\n",
    "         delta.t=2);"
   ]
  },
  {
   "cell_type": "markdown",
   "metadata": {},
   "source": [
    "We assume the measurement error is negligable, and therefore make no attempt to model it. As a result, our `rmeasure` function simply assigns the value of the $L$, $P$, and $A$ states to the respective observation values."
   ]
  },
  {
   "cell_type": "code",
   "execution_count": null,
   "metadata": {
    "collapsed": false
   },
   "outputs": [],
   "source": [
    "rmeas <- Csnippet(\"\n",
    "                    L_obs = L;\n",
    "                    P_obs = P;\n",
    "                    A_obs = A;\");"
   ]
  },
  {
   "cell_type": "markdown",
   "metadata": {},
   "source": [
    "Along the same lines, `dmeasure` can be defined as a pmf, which is 1 when the observations match the state values, and 0 otherwise"
   ]
  },
  {
   "cell_type": "code",
   "execution_count": null,
   "metadata": {
    "collapsed": false
   },
   "outputs": [],
   "source": [
    "dmeas <- Csnippet(\" double eps = 0.000001;\n",
    "                    if((abs(L_obs - L) > eps) ||\n",
    "                    (abs(P_obs - P) > eps) ||\n",
    "                    (abs(A_obs - A) > eps)) {\n",
    "                    lik = 0;\n",
    "                    } else {\n",
    "                    lik = 1;\n",
    "                    }\");"
   ]
  },
  {
   "cell_type": "markdown",
   "metadata": {},
   "source": [
    "We are in the unusual position of being able to define a `dprocess` function."
   ]
  },
  {
   "cell_type": "code",
   "execution_count": null,
   "metadata": {
    "collapsed": false
   },
   "outputs": [],
   "source": [
    "dproc <- onestep.dens(dens.fun=function(x1,x2,t1,t2,params,...){\n",
    "    stopifnot(t2==t1+2L)\n",
    "    with(as.list(params),{\n",
    "      mu_l <- sqrt(b * x1[\"A\"] * exp(-cel*x1[\"L\"] - cea*x1[\"A\"]))\n",
    "      mu_p <- sqrt(x1[\"L\"] * (1 - ul))\n",
    "      mu_a <- sqrt(x1[\"P\"] * exp(-cpa * x1[\"A\"]) + x1[\"A\"] * (1 - ua))\n",
    "      \n",
    "      likl <- dnorm(sqrt(x2[\"L\"]), mean = mu_l, sd = sigma_1,log=TRUE)\n",
    "      likp <- dnorm(sqrt(x2[\"P\"]), mean = mu_p, sd = sigma_2,log=TRUE)\n",
    "      lika <- dnorm(sqrt(x2[\"A\"]), mean = mu_a, sd = sigma_3,log=TRUE)\n",
    "      if(ua < 0){lika = -Inf}\n",
    "      likl + likp + lika\n",
    "    })});"
   ]
  },
  {
   "cell_type": "markdown",
   "metadata": {},
   "source": [
    "Update the model"
   ]
  },
  {
   "cell_type": "code",
   "execution_count": null,
   "metadata": {
    "collapsed": false
   },
   "outputs": [],
   "source": [
    "LPA_model <- pomp(LPA_model,\n",
    "                  initializer=init,\n",
    "                  rprocess=rproc,\n",
    "                  rmeasure=rmeas,\n",
    "                  dmeasure=dmeas,\n",
    "                  dprocess=dproc,\n",
    "                  statenames = c(\"L\", \"P\", \"A\"),\n",
    "                  paramnames = c(\"b\", \"cea\", \"cel\", \"cpa\", \"ua\", \"ul\", \"sigma_1\", \"sigma_2\", \"sigma_3\"))"
   ]
  },
  {
   "cell_type": "code",
   "execution_count": null,
   "metadata": {
    "collapsed": false
   },
   "outputs": [],
   "source": [
    "dat %>%\n",
    "  melt(id=c(\"weeks\",\"rep\")) %>%\n",
    "  acast(variable~rep~weeks) -> datarray\n",
    "\n",
    "statearray <- datarray\n",
    "rownames(statearray) <- c(\"L\",\"P\",\"A\")\n",
    "\n",
    "# Import and organize the parameters for the model\n",
    "paramarray <- as.matrix(read.csv('./data/params.csv'))\n",
    "row.names(paramarray) <- c(\"b\", \"cea\", \"cel\", \"cpa\", \"ua\", \"ul\", \"sigma_1\", \"sigma_2\", \"sigma_3\")\n",
    "colnames(paramarray) <- 1:24"
   ]
  },
  {
   "cell_type": "code",
   "execution_count": null,
   "metadata": {
    "collapsed": true
   },
   "outputs": [],
   "source": [
    "params1 <- c(b = 10.45,\n",
    "                   cea = 0.01310,\n",
    "                   cel = 0.01731,\n",
    "                   cpa = 0.004619,\n",
    "                   ua = 0.007629,\n",
    "                   ul = 0.2000,\n",
    "                   sigma_1 = 1.621,\n",
    "                   sigma_2 = 0.7375,\n",
    "                   sigma_3 = 0.01212)"
   ]
  },
  {
   "cell_type": "code",
   "execution_count": null,
   "metadata": {
    "collapsed": true
   },
   "outputs": [],
   "source": [
    "f2 <- function(par) {\n",
    "  p <- paramarray\n",
    "  p[c('b', 'cea','cel','ul','sigma_1','sigma_2','sigma_3'),] <-\n",
    "      c( par['b'],\n",
    "         par['cea'],\n",
    "         par['cel'],\n",
    "         par['ul'],\n",
    "         par['sigma_1'],\n",
    "         par['sigma_2'],\n",
    "         par['sigma_3'])\n",
    "  p['ua',c(4, 11, 24)] <- par['ua']\n",
    "  p['cpa',c(4, 11, 24)] <- par['cpa']\n",
    "  sum(dprocess(LPA_model,x=statearray,params=p,times=time(model),log=TRUE))\n",
    "}"
   ]
  },
  {
   "cell_type": "code",
   "execution_count": null,
   "metadata": {
    "collapsed": false
   },
   "outputs": [],
   "source": [
    "optim(fn = f2, \n",
    "      control = c(fnscale=-1, maxit=10000),\n",
    "      par = params1[c('b', 'cea','cel', 'cpa','ua','ul','sigma_1','sigma_2','sigma_3')]) -> fit2"
   ]
  },
  {
   "cell_type": "code",
   "execution_count": null,
   "metadata": {
    "collapsed": false
   },
   "outputs": [],
   "source": [
    "plot(A~time, data=simulate(LPA_model, params = params1,as.data.frame=T),type = 'b')"
   ]
  },
  {
   "cell_type": "markdown",
   "metadata": {},
   "source": [
    "# New Stuff"
   ]
  },
  {
   "cell_type": "code",
   "execution_count": 11,
   "metadata": {
    "collapsed": true
   },
   "outputs": [],
   "source": [
    "library(ggplot2)\n",
    "library(plyr)\n",
    "library(reshape2)\n",
    "library(pomp)\n",
    "library(magrittr)\n",
    "library(reshape2)\n",
    "library(foreach)\n",
    "stopifnot(packageVersion(\"pomp\")>=\"1.4.9\")"
   ]
  },
  {
   "cell_type": "code",
   "execution_count": 12,
   "metadata": {
    "collapsed": false
   },
   "outputs": [],
   "source": [
    "read.csv(\"./data/data.csv\") %>%subset(weeks <= 40, select=c(weeks,rep,L_obs,P_obs,A_obs)) -> dat\n",
    "dat$E_obs <- 0\n",
    "dat %>%\n",
    "  melt(id=c(\"weeks\",\"rep\")) %>%\n",
    "  acast(variable~rep~weeks) -> datarray;"
   ]
  },
  {
   "cell_type": "code",
   "execution_count": 13,
   "metadata": {
    "collapsed": true
   },
   "outputs": [],
   "source": [
    "stages.E <- 7\n",
    "stages.L <- 7\n",
    "stages.P <- 7\n",
    "stages.A <- 1"
   ]
  },
  {
   "cell_type": "code",
   "execution_count": 14,
   "metadata": {
    "collapsed": true
   },
   "outputs": [],
   "source": [
    "Csnippet(sprintf(\"\n",
    "    #include <math.h>\n",
    "    #define ESTAGES %d\n",
    "    #define LSTAGES %d\n",
    "    #define PSTAGES %d\n",
    "    #define ASTAGES %d\n",
    "    #define L_0 250\n",
    "    #define P_0 5\n",
    "    #define A_0 100\",\n",
    "    stages.E, stages.L, stages.P, stages.A)) -> glob_snippet"
   ]
  },
  {
   "cell_type": "code",
   "execution_count": 15,
   "metadata": {
    "collapsed": false
   },
   "outputs": [],
   "source": [
    "init_snippet <-\n",
    "  Csnippet(\"\n",
    "    double *E = &E1;\n",
    "    double *L = &L1;\n",
    "    double *P = &P1;\n",
    "    int k = 0;\n",
    "    for(k = 0; k < 7; k++) E[k] = 0;\n",
    "    for(k = 0; k < 5; k++) L[k] = 36;\n",
    "    for(k = 5; k < 7; k++) L[k] = 35;\n",
    "    for(k = 0; k < 5; k++) P[k] = 1;\n",
    "    for(k = 5; k < 7; k++) P[k] = 0;\n",
    "    A = 100;\")"
   ]
  },
  {
   "cell_type": "code",
   "execution_count": 16,
   "metadata": {
    "collapsed": true
   },
   "outputs": [],
   "source": [
    "rproc_snippet <-\n",
    "  Csnippet(\"\n",
    "    double *E = &E1;\n",
    "    double *L = &L1;\n",
    "    double *P = &P1;\n",
    "\n",
    "    int k;\n",
    "    double L_tot = 0;\n",
    "    for (k = 0; k < LSTAGES; k++) L_tot += L[k];\n",
    "\n",
    "    double gamma_E = (ESTAGES / tau_E) * exp((-cel * L_tot - cea * A) / ESTAGES);\n",
    "    double gamma_L = (LSTAGES / tau_L) * (1 - mu_L);\n",
    "    double gamma_P = (PSTAGES / tau_P) * exp((-cpa * A) / ESTAGES);\n",
    "\n",
    "    double mu_e = (ESTAGES / tau_E) * (1 - exp((-cel * L_tot - cea * A) / ESTAGES));\n",
    "    double mu_l = (LSTAGES / tau_L) * mu_L;\n",
    "    double mu_p = (PSTAGES / tau_P) * (1 - exp((-cpa * A) / ESTAGES));\n",
    "\n",
    "    int etrans[2*ESTAGES], ltrans[2*LSTAGES], ptrans[2*PSTAGES], adeath;\n",
    "\n",
    "    // Calculate who goes where\n",
    "    for (k = 0; k < ESTAGES; k++) {\n",
    "      etrans[2*k]   = rbinom((int) E[k],gamma_E);                             // Eggs growing to next stage\n",
    "      etrans[2*k+1] = rbinom((int) (E[k] - etrans[2*k]), mu_e/(1 - gamma_E)); // Eggs dying\n",
    "    }\n",
    "\n",
    "    for (k = 0; k < LSTAGES; k++) {\n",
    "      ltrans[2*k]   = rbinom((int) L[k], gamma_L);                          // Larvae growing to next stage\n",
    "      ltrans[2*k+1] = rbinom((int) (L[k]-ltrans[2*k]), mu_l/(1 - gamma_L)); // Larvae dying\n",
    "    }\n",
    "\n",
    "    for (k = 0; k < PSTAGES; k++) {\n",
    "      ptrans[2*k]   = rbinom((int) P[k], gamma_P);                           // Pupae growing to next stage\n",
    "      ptrans[2*k+1] = rbinom((int) (P[k]-ptrans[2*k]), mu_p/(1 - gamma_P) ); // Pupae dying\n",
    "    }\n",
    "\n",
    "    adeath = rbinom((int) A, mu_A);\n",
    "\n",
    "    // Bookkeeping\n",
    "    for (k = 0; k < ESTAGES; k++) {\n",
    "      E[k] -= (etrans[2*k]+etrans[2*k+1]);\n",
    "      E[k+1] += etrans[2*k]; // E[ESTAGES] == L[0]!!\n",
    "    }\n",
    "\n",
    "    E[0] += rpois(b*A);\n",
    "\n",
    "    for (k = 0; k < LSTAGES; k++) {\n",
    "      L[k] -= (ltrans[2*k]+ltrans[2*k+1]);\n",
    "      L[k+1] += ltrans[2*k]; // L[LSTAGES] == P[0]!!\n",
    "    }\n",
    "\n",
    "    for (k = 0; k < PSTAGES; k++) {\n",
    "      P[k] -= (ptrans[2*k]+ptrans[2*k+1]);\n",
    "      P[k+1] += ptrans[2*k]; // P[PSTAGES] == A[0]!!\n",
    "    }\n",
    "\n",
    "    A -= adeath;\n",
    "    \")"
   ]
  },
  {
   "cell_type": "code",
   "execution_count": 17,
   "metadata": {
    "collapsed": false
   },
   "outputs": [],
   "source": [
    "dmeas_snippet <-Csnippet(\n",
    "  \"\n",
    "  const double *L = &L1;\n",
    "  const double *P = &P1;\n",
    "\n",
    "  int k;\n",
    "  int L_tot = 0;\n",
    "  int P_tot = 0;\n",
    "  for (k = 0; k < LSTAGES; k++) L_tot += (int) L[k];\n",
    "  for (k = 0; k < PSTAGES; k++) P_tot += (int) P[k];\n",
    "\n",
    "  lik = 0;\n",
    "\n",
    "  //lik += dpois((int) L_obs, L_tot, 1) +\n",
    "  //       dpois((int) P_obs, P_tot, 1) +\n",
    "  //       dpois((int) A_obs, A,     1);\n",
    "\n",
    "  lik = (give_log) ? lik : exp(lik);\n",
    "   \")"
   ]
  },
  {
   "cell_type": "code",
   "execution_count": 18,
   "metadata": {
    "collapsed": false
   },
   "outputs": [],
   "source": [
    "rmeas_snippet <-\n",
    "  Csnippet(\"\n",
    "    const double *E = &E1;\n",
    "    const double *L = &L1;\n",
    "    const double *P = &P1;\n",
    "\n",
    "    int k;\n",
    "    int L_tot = 0;\n",
    "    int P_tot = 0;\n",
    "    for (k = 0; k < LSTAGES; k++) L_tot += (int) L[k];\n",
    "    for (k = 0; k < PSTAGES; k++) P_tot += (int) P[k];\n",
    "\n",
    "    //L_obs = (double) rpois(L_tot);\n",
    "    //P_obs = (double) rpois(P_tot);\n",
    "    //A_obs = (double) rpois(A);\n",
    "    L_obs = L_tot;\n",
    "    P_obs = P_tot;\n",
    "    A_obs = A;\")"
   ]
  },
  {
   "cell_type": "code",
   "execution_count": 19,
   "metadata": {
    "collapsed": true
   },
   "outputs": [],
   "source": [
    "from_est <-\n",
    "  Csnippet(\"\n",
    "    Tb = exp(b);\n",
    "    Tcea = expit(cea);\n",
    "    Tcel = expit(cel);\n",
    "    Tcpa = expit(cpa);\n",
    "    Tmu_A = expit(mu_A);\n",
    "    Tmu_L = expit(mu_L);\n",
    "    Ttau_E = exp(tau_E);\n",
    "    Ttau_L = exp(tau_L);\n",
    "    Ttau_P = exp(tau_P);\n",
    "    //Tmeas_p = expit(meas_p);\")\n",
    "\n",
    "to_est <-\n",
    "  Csnippet(\"\n",
    "    Tb = log(b);\n",
    "    Tcea = logit(cea);\n",
    "    Tcel = logit(cel);\n",
    "    Tcpa = logit(cpa);\n",
    "    Tmu_A = logit(mu_A);\n",
    "    Tmu_L = logit(mu_L);\n",
    "    Ttau_E = log(tau_E);\n",
    "    Ttau_L = log(tau_L);\n",
    "    Ttau_P = log(tau_P);\n",
    "    //Tmeas_p = logit(meas_p);\n",
    "    \")"
   ]
  },
  {
   "cell_type": "code",
   "execution_count": 20,
   "metadata": {
    "collapsed": false
   },
   "outputs": [],
   "source": [
    "pomp(\n",
    "  data = subset(dat, rep==4),\n",
    "  times=\"weeks\", t0=0,\n",
    "  obsnames = c(\"E_obs\", \"L_obs\", \"P_obs\", \"A_obs\"),\n",
    "  statenames = c(sprintf(\"E%d\",1:stages.E),sprintf(\"L%d\",1:stages.L),sprintf(\"P%d\",1:stages.P),\"A\"),\n",
    "  paramnames = c(\"b\", \"cea\", \"cel\", \"cpa\", \"mu_A\", \"mu_L\", \"tau_E\", \"tau_L\", \"tau_P\"),\n",
    "  globals = glob_snippet,\n",
    "  initializer = init_snippet,\n",
    "  rprocess = discrete.time.sim(\n",
    "    step.fun = rproc_snippet,\n",
    "    delta.t = 1/7),\n",
    "  dmeasure = dmeas_snippet,\n",
    "  rmeasure = rmeas_snippet,\n",
    "  toEstimationScale = to_est,\n",
    "  fromEstimationScale = from_est,\n",
    "  params = c(\"b\"=1.18702207924403,\n",
    "             \"cea\"=0.0132088702404268,\n",
    "             \"cel\"=0.0172244842038504,\n",
    "             \"cpa\"=0.00466955565765198,\n",
    "             \"mu_A\"=1.89532307252467e-05,\n",
    "             \"mu_L\"=0.0158937470126093,\n",
    "             \"tau_E\"=15.7219226675806,\n",
    "             \"tau_L\"=7.18906255435284,\n",
    "             \"tau_P\"=18.0248791283609\n",
    "             )) -> model"
   ]
  },
  {
   "cell_type": "code",
   "execution_count": 21,
   "metadata": {
    "collapsed": true
   },
   "outputs": [],
   "source": [
    "defaultparams <- model@params"
   ]
  },
  {
   "cell_type": "code",
   "execution_count": 22,
   "metadata": {
    "collapsed": true
   },
   "outputs": [],
   "source": [
    "#ssr <- function(par) {\n",
    "#  total <- 0\n",
    "#  if(min(par) < 0){\n",
    "#    total <- -Inf\n",
    "#  }\n",
    "#  \n",
    "#  if(max(par[c('cea', 'cel', 'cpa')]) > 1){\n",
    "#    total <- -Inf\n",
    "#  }\n",
    "#\n",
    "#  sim <- simulate(model, nsim = 200, params = par)\n",
    "#\n",
    "#  for(i in 1:200){\n",
    "#    for(j in c(4)){ #, 11, 24)){\n",
    "#      total = total + sum(rowSums((datarray[c(\"L_obs\", \"P_obs\", \"A_obs\"),j,] - obs(sim[[i]])[c('L_obs','P_obs','A_obs'),])^2)^0.5)\n",
    "#    }\n",
    "#  }\n",
    "#  total\n",
    "#}"
   ]
  },
  {
   "cell_type": "code",
   "execution_count": 23,
   "metadata": {
    "collapsed": true
   },
   "outputs": [],
   "source": [
    "#fit1 <- optim(fn=ssr, par=defaultparams, control=c(maxit=100000))"
   ]
  },
  {
   "cell_type": "code",
   "execution_count": 24,
   "metadata": {
    "collapsed": true
   },
   "outputs": [],
   "source": [
    "#model <- pomp(model, params=fit1$par)"
   ]
  },
  {
   "cell_type": "code",
   "execution_count": 25,
   "metadata": {
    "collapsed": true
   },
   "outputs": [],
   "source": [
    "multiplot <- function(..., plotlist=NULL, cols) {\n",
    "    require(grid)\n",
    "\n",
    "    # Make a list from the ... arguments and plotlist\n",
    "    plots <- c(list(...), plotlist)\n",
    "\n",
    "    numPlots = length(plots)\n",
    "\n",
    "    # Make the panel\n",
    "    plotCols = cols                          # Number of columns of plots\n",
    "    plotRows = ceiling(numPlots/plotCols) # Number of rows needed, calculated from # of cols\n",
    "\n",
    "    # Set up the page\n",
    "    grid.newpage()\n",
    "    pushViewport(viewport(layout = grid.layout(plotRows, plotCols)))\n",
    "    vplayout <- function(x, y)\n",
    "        viewport(layout.pos.row = x, layout.pos.col = y)\n",
    "\n",
    "    # Make each plot, in the correct location\n",
    "    for (i in 1:numPlots) {\n",
    "        curRow = ceiling(i/plotCols)\n",
    "        curCol = (i-1) %% plotCols + 1\n",
    "        print(plots[[i]], vp = vplayout(curRow, curCol ))\n",
    "    }\n",
    "\n",
    "}"
   ]
  },
  {
   "cell_type": "code",
   "execution_count": 26,
   "metadata": {
    "collapsed": false
   },
   "outputs": [
    {
     "name": "stderr",
     "output_type": "stream",
     "text": [
      "Loading required package: grid\n"
     ]
    },
    {
     "data": {
      "image/png": "[encoded data removed]",
      "text/plain": [
       "plot without title"
      ]
     },
     "metadata": {
      "image/svg+xml": {
       "isolated": true
      }
     },
     "output_type": "display_data"
    }
   ],
   "source": [
    "sims <- simulate(model, nsim=20,as.data.frame=TRUE,include.data=TRUE)\n",
    "pl <- ggplot(sims,mapping=aes(x=time,y=L_obs,group=sim,color=sim==\"data\"))+geom_line()+guides(color=FALSE)\n",
    "pp <- ggplot(sims,mapping=aes(x=time,y=P_obs,group=sim,color=sim==\"data\"))+geom_line()+guides(color=FALSE)\n",
    "pa <- ggplot(sims,mapping=aes(x=time,y=A_obs,group=sim,color=sim==\"data\"))+geom_line()+guides(color=FALSE)\n",
    "multiplot(pl, pp, pa, cols=1);"
   ]
  },
  {
   "cell_type": "code",
   "execution_count": 27,
   "metadata": {
    "collapsed": false
   },
   "outputs": [
    {
     "data": {
      "text/html": [
       "0"
      ],
      "text/latex": [
       "0"
      ],
      "text/markdown": [
       "0"
      ],
      "text/plain": [
       "[1] 0"
      ]
     },
     "metadata": {},
     "output_type": "display_data"
    }
   ],
   "source": [
    "pf <- pfilter(model, params = defaultparams, Np=1000)\n",
    "logLik(pf)"
   ]
  },
  {
   "cell_type": "code",
   "execution_count": 28,
   "metadata": {
    "collapsed": false
   },
   "outputs": [
    {
     "name": "stderr",
     "output_type": "stream",
     "text": [
      "Loading required package: iterators\n",
      "Loading required package: parallel\n"
     ]
    }
   ],
   "source": [
    "library(foreach);\n",
    "library(doParallel);\n",
    "registerDoParallel();"
   ]
  },
  {
   "cell_type": "code",
   "execution_count": 29,
   "metadata": {
    "collapsed": false
   },
   "outputs": [
    {
     "data": {
      "text/html": [
       "<dl class=dl-horizontal>\n",
       "\t<dt>1</dt>\n",
       "\t\t<dd>0</dd>\n",
       "\t<dt>se</dt>\n",
       "\t\t<dd>0</dd>\n",
       "</dl>\n"
      ],
      "text/latex": [
       "\\begin{description*}\n",
       "\\item[1] 0\n",
       "\\item[se] 0\n",
       "\\end{description*}\n"
      ],
      "text/markdown": [
       "1\n",
       ":   0se\n",
       ":   0\n",
       "\n"
      ],
      "text/plain": [
       "   se \n",
       " 0  0 "
      ]
     },
     "metadata": {},
     "output_type": "display_data"
    }
   ],
   "source": [
    "stew(file=\"./output/pf.rda\",{\n",
    "  t_pf <- system.time(\n",
    "    pf <- foreach(i=1:10,.packages='pomp',\n",
    "                  .options.multicore=list(set.seed=TRUE),\n",
    "                  .export=c(\"model\")\n",
    "    ) %dopar% {\n",
    "      pfilter(model,params=defaultparams,Np=10000)\n",
    "    }\n",
    "  )\n",
    "  n_pf <- getDoParWorkers()\n",
    "},seed=625904618,kind=\"L'Ecuyer\")\n",
    "\n",
    "(L_pf <- logmeanexp(sapply(pf,logLik),se=TRUE))"
   ]
  },
  {
   "cell_type": "code",
   "execution_count": 30,
   "metadata": {
    "collapsed": true
   },
   "outputs": [],
   "source": [
    "results <- as.data.frame(as.list(c(coef(pf[[1]]),loglik=L_pf[1],loglik=L_pf[2])))\n",
    "#write.csv(results,file=\"./output/model_params.csv\",row.names=FALSE)"
   ]
  },
  {
   "cell_type": "code",
   "execution_count": 31,
   "metadata": {
    "collapsed": false
   },
   "outputs": [],
   "source": [
    "stew(file=\"./output/box_search_local.rda\",{\n",
    "  t_local_mif <- system.time({\n",
    "    mifs_local <- foreach(i=1:20,\n",
    "                          .packages='pomp',\n",
    "                          .combine=c, \n",
    "                          .options.multicore=list(set.seed=TRUE),\n",
    "                          .export=c(\"model\")\n",
    "    ) %dopar%  \n",
    "    {\n",
    "      mif2(\n",
    "        model,\n",
    "        start=defaultparams,\n",
    "        Np=2000,\n",
    "        Nmif=50,\n",
    "        cooling.type=\"geometric\",\n",
    "        cooling.fraction.50=0.5,\n",
    "        transform=TRUE,\n",
    "        rw.sd=rw.sd(b=0.02, cea=0.02, cel=0.02, cpa=0.02, mu_A=0.02, mu_L=0.02,\n",
    "                    tau_E=0.02, tau_L=0.02, tau_P=0.02)\n",
    "      )\n",
    "    }\n",
    "  })\n",
    "},seed=482947940,kind=\"L'Ecuyer\")"
   ]
  },
  {
   "cell_type": "code",
   "execution_count": 32,
   "metadata": {
    "collapsed": false
   },
   "outputs": [
    {
     "data": {
      "image/png": "[encoded data removed]",
      "text/plain": [
       "plot without title"
      ]
     },
     "metadata": {
      "image/svg+xml": {
       "isolated": true
      }
     },
     "output_type": "display_data"
    }
   ],
   "source": [
    "ggplot(data=melt(conv.rec(mifs_local)),\n",
    "       aes(x=iteration,y=value,group=L1,color=factor(L1)))+\n",
    "  geom_line()+\n",
    "  guides(color=FALSE)+\n",
    "  facet_wrap(~variable,scales=\"free_y\")+\n",
    "  theme_bw()"
   ]
  },
  {
   "cell_type": "code",
   "execution_count": 33,
   "metadata": {
    "collapsed": false
   },
   "outputs": [],
   "source": [
    "stew(file=\"./output/lik_local.rda\",{\n",
    "  t_local_eval <- system.time({\n",
    "    results_local <- foreach(mf=mifs_local,\n",
    "                             .packages='pomp',\n",
    "                             .combine=rbind,\n",
    "                             .options.multicore=list(set.seed=TRUE)\n",
    "    ) %dopar% \n",
    "    {\n",
    "      evals <- replicate(10, logLik(pfilter(mf,Np=20000)))\n",
    "      ll <- logmeanexp(evals,se=TRUE)\n",
    "      c(coef(mf),loglik=ll[1],loglik=ll[2])\n",
    "    }\n",
    "  })\n",
    "},seed=900242057,kind=\"L'Ecuyer\")\n",
    "results_local <- as.data.frame(results_local)"
   ]
  },
  {
   "cell_type": "code",
   "execution_count": 34,
   "metadata": {
    "collapsed": false
   },
   "outputs": [
    {
     "data": {
      "image/png": "[encoded data removed]",
      "text/plain": [
       "plot without title"
      ]
     },
     "metadata": {
      "image/svg+xml": {
       "isolated": true
      }
     },
     "output_type": "display_data"
    }
   ],
   "source": [
    "pairs(~loglik+b+cea+cel+cpa+mu_A+mu_L+tau_E+tau_L+tau_P,data=results_local)"
   ]
  },
  {
   "cell_type": "code",
   "execution_count": null,
   "metadata": {
    "collapsed": true
   },
   "outputs": [],
   "source": [
    "results <- rbind(results,results_local[names(results)])\n",
    "#write.csv(results,file=\"./output/model_params.csv\",row.names=FALSE)"
   ]
  },
  {
   "cell_type": "code",
   "execution_count": null,
   "metadata": {
    "collapsed": false
   },
   "outputs": [],
   "source": [
    "optim_params <- unlist(results_local[which.max(results_local$loglik),])\n",
    "sims <- simulate(model, params = optim_params, nsim=20,as.data.frame=TRUE,include.data=TRUE)\n",
    "pl <- ggplot(sims,mapping=aes(x=time,y=L_obs,group=sim,color=sim==\"data\"))+geom_line()+guides(color=FALSE)\n",
    "pp <- ggplot(sims,mapping=aes(x=time,y=P_obs,group=sim,color=sim==\"data\"))+geom_line()+guides(color=FALSE)\n",
    "pa <- ggplot(sims,mapping=aes(x=time,y=A_obs,group=sim,color=sim==\"data\"))+geom_line()+guides(color=FALSE)\n",
    "multiplot(pl, pp, pa, cols=1);"
   ]
  },
  {
   "cell_type": "code",
   "execution_count": null,
   "metadata": {
    "collapsed": false
   },
   "outputs": [],
   "source": [
    "results_local"
   ]
  },
  {
   "cell_type": "code",
   "execution_count": null,
   "metadata": {
    "collapsed": false
   },
   "outputs": [],
   "source": [
    "mifs_local[[1]]"
   ]
  },
  {
   "cell_type": "code",
   "execution_count": null,
   "metadata": {
    "collapsed": false
   },
   "outputs": [],
   "source": [
    "pf[[3]]$loglik"
   ]
  },
  {
   "cell_type": "code",
   "execution_count": 37,
   "metadata": {
    "collapsed": false
   },
   "outputs": [
    {
     "name": "stdout",
     "output_type": "stream",
     "text": [
      "[1] \"Starting global search\"\n"
     ]
    }
   ],
   "source": [
    "params_box <- rbind(\n",
    "  b=c(0, 20),\n",
    "  cea=c(0, 1),\n",
    "  cel = c(0, 1),\n",
    "  cpa = c(0, 1),\n",
    "  mu_A = c(0, 1),\n",
    "  mu_L = c(0, 1),\n",
    "  tau_E = c(7, 14),\n",
    "  tau_L = c(7, 14),\n",
    "  tau_P = c(7, 14),\n",
    "  tau_A = c(7, 14)\n",
    ")\n",
    "\n",
    "print(\"Starting global search\")\n",
    "\n",
    "stew(file=\"./output/box_search_global.rda\",{\n",
    "  n_global <- getDoParWorkers()\n",
    "  t_global <- system.time({\n",
    "    mf1 <- mifs_local[[1]]\n",
    "    guesses <- as.data.frame(apply(params_box,1,function(x)runif(300,x[1],x[2])))\n",
    "    results_global <- foreach(guess=iter(guesses,\"row\"),\n",
    "                              .packages='pomp',\n",
    "                              .combine=rbind,\n",
    "                              .options.multicore=list(set.seed=TRUE),\n",
    "                              .export=c(\"mf1\")\n",
    "    ) %dopar%\n",
    "    {\n",
    "      mf <- mif2(mf1,start=c(unlist(guess)))\n",
    "      mf <- mif2(mf,Nmif=100)\n",
    "      ll <- replicate(10,logLik(pfilter(mf,Np=100000)))\n",
    "      ll <- logmeanexp(ll,se=TRUE)\n",
    "      c(coef(mf),loglik=ll[1],loglik=ll[2])\n",
    "    }\n",
    "  })\n",
    "},seed=1270401374,kind=\"L'Ecuyer\")\n",
    "results_global <- as.data.frame(results_global)\n",
    "results <- rbind(results,results_global[names(results)])"
   ]
  },
  {
   "cell_type": "code",
   "execution_count": 38,
   "metadata": {
    "collapsed": false
   },
   "outputs": [
    {
     "data": {
      "text/html": [
       "<table>\n",
       "<thead><tr><th></th><th scope=col>b</th><th scope=col>cea</th><th scope=col>cel</th><th scope=col>cpa</th><th scope=col>mu_A</th><th scope=col>mu_L</th><th scope=col>tau_E</th><th scope=col>tau_L</th><th scope=col>tau_P</th><th scope=col>loglik</th><th scope=col>loglik.se</th></tr></thead>\n",
       "<tbody>\n",
       "\t<tr><th scope=row>1</th><td>1.18702207924403    </td><td>0.0132088702404268  </td><td>0.0172244842038504  </td><td>0.00466955565765198 </td><td>1.89532307252467e-05</td><td>0.0158937470126093  </td><td>15.7219226675806    </td><td>7.18906255435284    </td><td>18.0248791283609    </td><td>0                   </td><td>0                   </td></tr>\n",
       "\t<tr><th scope=row>result.1</th><td>5.52282078601297 </td><td>0.499507692406471</td><td>0.83039343289663 </td><td>0.959208806427946</td><td>0.835059919251968</td><td>0.360434844091511</td><td>9.23125377111369 </td><td>10.2554423449477 </td><td>10.3081382080908 </td><td>0                </td><td>0                </td></tr>\n",
       "\t<tr><th scope=row>result.2</th><td>7.97146527387094 </td><td>0.52984367136257 </td><td>0.691870120883519</td><td>0.500076979296081</td><td>0.878555478563695</td><td>0.519937501428111</td><td>11.1560376030676 </td><td>12.7598894404714 </td><td>7.37702736375094 </td><td>0                </td><td>0                </td></tr>\n",
       "\t<tr><th scope=row>result.3</th><td>8.9077548135531   </td><td>0.0739274118712033</td><td>0.210642327424111 </td><td>0.704837658481925 </td><td>0.723508558295621 </td><td>0.58550908366215  </td><td>11.0912839707778  </td><td>9.5771072787519   </td><td>13.4753024788952  </td><td>0                 </td><td>0                 </td></tr>\n",
       "\t<tr><th scope=row>result.4</th><td>7.47974366895549  </td><td>0.806610928669616 </td><td>0.945084036164064 </td><td>0.791901407409926 </td><td>0.0959218248260303</td><td>0.869375999719837 </td><td>12.0820577007145  </td><td>12.2212997778009  </td><td>11.8784170202596  </td><td>0                 </td><td>0                 </td></tr>\n",
       "\t<tr><th scope=row>result.5</th><td>4.63608242669047  </td><td>0.488848146820537 </td><td>0.0886166690834093</td><td>0.795207970518513 </td><td>0.895596982649812 </td><td>0.794622072502997 </td><td>11.5742243826336  </td><td>12.2801886244985  </td><td>8.73397349198552  </td><td>0                 </td><td>0                 </td></tr>\n",
       "\t<tr><th scope=row>result.6</th><td>1.79360570080676  </td><td>0.0155731018026222</td><td>0.231216107886615 </td><td>0.729611615063775 </td><td>0.109727364215598 </td><td>0.321936722675773 </td><td>12.5026444675247  </td><td>14.1751720912225  </td><td>13.3586404249093  </td><td>0                 </td><td>0                 </td></tr>\n",
       "\t<tr><th scope=row>result.7</th><td>11.0682484718958  </td><td>0.0540028015834112</td><td>0.785516266887521 </td><td>0.24966387834523  </td><td>0.586884467658261 </td><td>0.581053184112585 </td><td>11.3812223450307  </td><td>10.6224086177406  </td><td>12.5088116168335  </td><td>0                 </td><td>0                 </td></tr>\n",
       "\t<tr><th scope=row>result.8</th><td>3.49337125015857 </td><td>0.20636506105544 </td><td>0.622607257058393</td><td>0.126727402070197</td><td>0.761449187776153</td><td>0.116426390801872</td><td>12.2537181268514 </td><td>10.6494670305686 </td><td>9.68160309102134 </td><td>0                </td><td>0                </td></tr>\n",
       "\t<tr><th scope=row>result.9</th><td>17.6644441190553 </td><td>0.561200204789967</td><td>0.627449603594227</td><td>0.503227068856711</td><td>0.250778104018271</td><td>0.113392672361844</td><td>8.62968685348227 </td><td>7.35931125998952 </td><td>10.3376159557919 </td><td>0                </td><td>0                </td></tr>\n",
       "\t<tr><th scope=row>result.10</th><td>5.9417506560276   </td><td>0.0201273943776579</td><td>0.658191742132879 </td><td>0.590903583942118 </td><td>0.687960838619504 </td><td>0.818166088804081 </td><td>13.3954431697935  </td><td>13.0336080537816  </td><td>7.89587611152559  </td><td>0                 </td><td>0                 </td></tr>\n",
       "\t<tr><th scope=row>result.11</th><td>7.07108262083688 </td><td>0.167965772903418</td><td>0.514676207300176</td><td>0.918025891741324</td><td>0.531461821819585</td><td>0.582757845299061</td><td>11.3762653168219 </td><td>11.4905596005815 </td><td>13.9260332625858 </td><td>0                </td><td>0                </td></tr>\n",
       "\t<tr><th scope=row>result.12</th><td>16.2933453329153 </td><td>0.613177713122836</td><td>0.138066128520238</td><td>0.646144536388299</td><td>0.210562248767373</td><td>0.375344120086758</td><td>10.6731695622144 </td><td>13.6698347106913 </td><td>11.3284388460087 </td><td>0                </td><td>0                </td></tr>\n",
       "\t<tr><th scope=row>result.13</th><td>11.4557132719941 </td><td>0.693680109906305</td><td>0.752625364231586</td><td>0.384479901889626</td><td>0.547359685582496</td><td>0.551999645581026</td><td>7.46523866779221 </td><td>12.0854490334201 </td><td>9.01329563116722 </td><td>0                </td><td>0                </td></tr>\n",
       "\t<tr><th scope=row>result.14</th><td>0.852824940505145   </td><td>0.256362294520531   </td><td>0.497958318264236   </td><td>0.106713144329007   </td><td>0.122175265846948   </td><td>9.36770441865556e-05</td><td>9.94308798823858    </td><td>11.7376871957636    </td><td>13.8474783995727    </td><td>0                   </td><td>0                   </td></tr>\n",
       "\t<tr><th scope=row>result.15</th><td>15.5484657249895  </td><td>0.940557452422815 </td><td>0.460757423064416 </td><td>0.399497540908896 </td><td>0.698455148265891 </td><td>0.0743747969636142</td><td>12.4652547090155  </td><td>7.97464318186364  </td><td>7.30827940451327  </td><td>0                 </td><td>0                 </td></tr>\n",
       "\t<tr><th scope=row>result.16</th><td>1.34188614765373 </td><td>0.66884331019228 </td><td>0.401438344827223</td><td>0.787432583439331</td><td>0.956974325124423</td><td>0.305841093656425</td><td>10.5774604408559 </td><td>8.09205954245765 </td><td>13.2159268771231 </td><td>0                </td><td>0                </td></tr>\n",
       "\t<tr><th scope=row>result.17</th><td>15.1358873726376  </td><td>0.229089771334279 </td><td>0.0675954407350846</td><td>0.974830525134008 </td><td>0.95614341645286  </td><td>0.120696014993325 </td><td>13.7979108765017  </td><td>12.909875205226   </td><td>7.89371020335311  </td><td>0                 </td><td>0                 </td></tr>\n",
       "\t<tr><th scope=row>result.18</th><td>4.32538315473034  </td><td>0.523842532017939 </td><td>0.45968568464006  </td><td>0.0156640332044206</td><td>0.0563367420942899</td><td>0.22393555472995  </td><td>8.571371323142    </td><td>10.4850228651673  </td><td>11.0468313790791  </td><td>0                 </td><td>0                 </td></tr>\n",
       "\t<tr><th scope=row>result.19</th><td>7.38517523172682 </td><td>0.205010323396457</td><td>0.15576483118422 </td><td>0.207836349667731</td><td>0.171819951055411</td><td>0.525683341981568</td><td>7.87759409042723 </td><td>7.01094329982452 </td><td>8.20353493798677 </td><td>0                </td><td>0                </td></tr>\n",
       "\t<tr><th scope=row>result.20</th><td>3.9162080347174  </td><td>0.412571612148796</td><td>0.050152491077055</td><td>0.913632516202324</td><td>0.979385763615612</td><td>0.946647266365836</td><td>11.9456222923592 </td><td>9.42235136796041 </td><td>12.5290367999596 </td><td>0                </td><td>0                </td></tr>\n",
       "\t<tr><th scope=row>result.21</th><td>9.45463031561361 </td><td>0.15655279877295 </td><td>0.105221345576554</td><td>0.257182012647437</td><td>0.526543513457803</td><td>0.15911079178465 </td><td>13.0263588886566 </td><td>12.5844071947276 </td><td>10.8173980801982 </td><td>0                </td><td>0                </td></tr>\n",
       "\t<tr><th scope=row>result.22</th><td>13.0875224316829 </td><td>0.532802533372949</td><td>0.906485019039123</td><td>0.802184610103005</td><td>0.620404782932894</td><td>0.850485439364103</td><td>13.4224797235295 </td><td>13.0722015572779 </td><td>10.5697912655413 </td><td>0                </td><td>0                </td></tr>\n",
       "\t<tr><th scope=row>result.23</th><td>3.03562688569838 </td><td>0.856453798560359</td><td>0.760118723831106</td><td>0.513707739801653</td><td>0.172332395809827</td><td>0.515751180864828</td><td>13.2873604891445 </td><td>8.77071992715792 </td><td>8.63396998921119 </td><td>0                </td><td>0                </td></tr>\n",
       "\t<tr><th scope=row>result.24</th><td>10.7797883140216 </td><td>0.760785296836153</td><td>0.491312632900024</td><td>0.189243381920559</td><td>0.647502866315214</td><td>0.7323074550976  </td><td>11.5979507035194 </td><td>7.76714397585231 </td><td>13.8727758332694 </td><td>0                </td><td>0                </td></tr>\n",
       "\t<tr><th scope=row>result.25</th><td>5.30250988473335  </td><td>0.673463276240833 </td><td>0.0585237531966747</td><td>0.23808949647563  </td><td>0.595327334334991 </td><td>0.203723240688386 </td><td>8.7921038884111   </td><td>9.50583959190954  </td><td>11.4583550120114  </td><td>0                 </td><td>0                 </td></tr>\n",
       "\t<tr><th scope=row>result.26</th><td>10.1454940016562 </td><td>0.34045232093781 </td><td>0.310735918781141</td><td>0.453009266196124</td><td>0.815784512513938</td><td>0.154755545534366</td><td>7.30426497751267 </td><td>11.2809090049908 </td><td>11.8387306490472 </td><td>0                </td><td>0                </td></tr>\n",
       "\t<tr><th scope=row>result.27</th><td>9.2159953729087  </td><td>0.914705041126808</td><td>0.174658870157803</td><td>0.11513349233093 </td><td>0.242768329930214</td><td>0.145596938782889</td><td>11.2512942897325 </td><td>12.195987706953  </td><td>12.2355813311644 </td><td>0                </td><td>0                </td></tr>\n",
       "\t<tr><th scope=row>result.28</th><td>0.949889787801784 </td><td>0.317789107667653 </td><td>0.345768065366984 </td><td>0.594663945572003 </td><td>0.512620992143653 </td><td>0.0157844011107677</td><td>9.79945046458525  </td><td>13.2328000822362  </td><td>10.2080847138789  </td><td>0                 </td><td>0                 </td></tr>\n",
       "\t<tr><th scope=row>result.29</th><td>7.59233502476468   </td><td>0.01725635634013   </td><td>0.00588565768286652</td><td>0.139098953624794  </td><td>0.673717961548862  </td><td>0.238905949311214  </td><td>13.3638805216368   </td><td>8.5770144284271    </td><td>7.5878227811638    </td><td>0                  </td><td>0                  </td></tr>\n",
       "\t<tr><th scope=row>⋮</th><td>⋮</td><td>⋮</td><td>⋮</td><td>⋮</td><td>⋮</td><td>⋮</td><td>⋮</td><td>⋮</td><td>⋮</td><td>⋮</td><td>⋮</td></tr>\n",
       "\t<tr><th scope=row>result.271</th><td>19.1679509973989  </td><td>0.436381431354188 </td><td>0.178222813799617 </td><td>0.0387711535924613</td><td>0.270684629759353 </td><td>0.186915020311322 </td><td>13.7780162287447  </td><td>7.8194121305935   </td><td>11.3927770738307  </td><td>0                 </td><td>0                 </td></tr>\n",
       "\t<tr><th scope=row>result.272</th><td>10.690840892071  </td><td>0.429649265907059</td><td>0.475858396604628</td><td>0.62107181311856 </td><td>0.162097759113899</td><td>0.642966120667559</td><td>10.285418414178  </td><td>11.6000576576385 </td><td>8.38462578269611 </td><td>0                </td><td>0                </td></tr>\n",
       "\t<tr><th scope=row>result.273</th><td>7.87317760107782  </td><td>0.121226702261012 </td><td>0.665824050282303 </td><td>0.468632757417878 </td><td>0.600885525776197 </td><td>0.0620667641262899</td><td>7.32830384060187  </td><td>7.86145062364221  </td><td>10.7786612730916  </td><td>0                 </td><td>0                 </td></tr>\n",
       "\t<tr><th scope=row>result.274</th><td>12.6453364537593  </td><td>0.320715523988397 </td><td>0.977665727579885 </td><td>0.0688579252926358</td><td>0.336903601572711 </td><td>0.232163168997848 </td><td>11.0676301637361  </td><td>8.47171127137307  </td><td>10.2035277695643  </td><td>0                 </td><td>0                 </td></tr>\n",
       "\t<tr><th scope=row>result.275</th><td>19.4485772462129  </td><td>0.0807052209124565</td><td>0.549636433802989 </td><td>0.722756384821341 </td><td>0.285781170160707 </td><td>0.428589307810976 </td><td>9.38602036279753  </td><td>8.13721361365027  </td><td>8.45269954045163  </td><td>0                 </td><td>0                 </td></tr>\n",
       "\t<tr><th scope=row>result.276</th><td>8.89656951682217 </td><td>0.789011555806702</td><td>0.418218695810621</td><td>0.993553243477404</td><td>0.674821247747914</td><td>0.92282421176249 </td><td>12.7901129666868 </td><td>12.4585845047648 </td><td>7.02869435186855 </td><td>0                </td><td>0                </td></tr>\n",
       "\t<tr><th scope=row>result.277</th><td>15.5465633989624 </td><td>0.655263146130263</td><td>0.13493428852696 </td><td>0.190048893148763</td><td>0.564169164950015</td><td>0.131321517594409</td><td>8.83951663354538 </td><td>8.1623813134168  </td><td>12.5030945551872 </td><td>0                </td><td>0                </td></tr>\n",
       "\t<tr><th scope=row>result.278</th><td>4.1909700637005  </td><td>0.70440394455126 </td><td>0.129995707849209</td><td>0.386800458559241</td><td>0.554199879266071</td><td>0.442849422921881</td><td>8.24663354550465 </td><td>13.5239315890669 </td><td>10.1546183916778 </td><td>0                </td><td>0                </td></tr>\n",
       "\t<tr><th scope=row>result.279</th><td>7.54639637715686  </td><td>0.0732121749149667</td><td>0.776053980191631 </td><td>0.571435335613576 </td><td>0.918194976648947 </td><td>0.760955765232329 </td><td>8.18202542242876  </td><td>8.04367013995621  </td><td>13.4721754108836  </td><td>0                 </td><td>0                 </td></tr>\n",
       "\t<tr><th scope=row>result.280</th><td>11.7205608969883 </td><td>0.118070932715457</td><td>0.903248217766861</td><td>0.179269977561718</td><td>0.740342362239211</td><td>0.835237667351284</td><td>10.8748014660839 </td><td>10.8621670838781 </td><td>7.72725661901185 </td><td>0                </td><td>0                </td></tr>\n",
       "\t<tr><th scope=row>result.281</th><td>12.352542998059  </td><td>0.619112733972394</td><td>0.473264480933281</td><td>0.245879639522978</td><td>0.525313599518498</td><td>0.585964118233453</td><td>13.9522217244603 </td><td>9.0819766891824  </td><td>12.8813905358321 </td><td>0                </td><td>0                </td></tr>\n",
       "\t<tr><th scope=row>result.282</th><td>10.3668415168127  </td><td>0.185693678559628 </td><td>0.869408507842665 </td><td>0.402675619734538 </td><td>0.0645577341600609</td><td>0.113151903612595 </td><td>7.58064821433759  </td><td>9.9406022749898   </td><td>13.7672349952764  </td><td>0                 </td><td>0                 </td></tr>\n",
       "\t<tr><th scope=row>result.283</th><td>19.8531584641488 </td><td>0.161385588326417</td><td>0.849969895155411</td><td>0.845304117308422</td><td>0.50296483555744 </td><td>0.601446252373886</td><td>8.99920631410096 </td><td>13.6610427115821 </td><td>9.94871502171274 </td><td>0                </td><td>0                </td></tr>\n",
       "\t<tr><th scope=row>result.284</th><td>16.1986863921496 </td><td>0.889838632533586</td><td>0.388169402027062</td><td>0.77740038745667 </td><td>0.960812375811806</td><td>0.344730595482703</td><td>11.4342185440068 </td><td>8.43262090479642 </td><td>10.0063404866116 </td><td>0                </td><td>0                </td></tr>\n",
       "\t<tr><th scope=row>result.285</th><td>0.47726314755642   </td><td>0.460036271802706  </td><td>0.877683433541166  </td><td>0.0709990117184861 </td><td>0.539448479616344  </td><td>0.00923459853304295</td><td>8.52213931581891   </td><td>7.82508379836924   </td><td>7.67198759030847   </td><td>0                  </td><td>0                  </td></tr>\n",
       "\t<tr><th scope=row>result.286</th><td>18.3625727047328 </td><td>0.177854608016695</td><td>0.026152454854402</td><td>0.906679478921131</td><td>0.147795436494821</td><td>0.173274392881643</td><td>9.09936293543861 </td><td>9.67071357931541 </td><td>10.875125684639  </td><td>0                </td><td>0                </td></tr>\n",
       "\t<tr><th scope=row>result.287</th><td>16.228037890101  </td><td>0.597961900235959</td><td>0.170913293020139</td><td>0.400033293379355</td><td>0.436096927993439</td><td>0.54523468507642 </td><td>8.6862273857841  </td><td>12.5196961192395 </td><td>8.4638307418219  </td><td>0                </td><td>0                </td></tr>\n",
       "\t<tr><th scope=row>result.288</th><td>15.7458820684545 </td><td>0.477721560454157</td><td>0.529251361879322</td><td>0.708103336581455</td><td>0.640325832138073</td><td>0.991994523007636</td><td>9.4334859465972  </td><td>12.2781116846647 </td><td>10.530332664791  </td><td>0                </td><td>0                </td></tr>\n",
       "\t<tr><th scope=row>result.289</th><td>12.0265187711656  </td><td>0.0263228477694504</td><td>0.304964076931453 </td><td>0.70659380727495  </td><td>0.0874511906803317</td><td>0.250777336524555 </td><td>9.38143187648256  </td><td>9.15190113069317  </td><td>10.9273843695109  </td><td>0                 </td><td>0                 </td></tr>\n",
       "\t<tr><th scope=row>result.290</th><td>10.7060225173891  </td><td>0.0152864331961458</td><td>0.838654350532261 </td><td>0.870253142046376 </td><td>0.0285530779093294</td><td>0.458001848362208 </td><td>13.4770722720023  </td><td>11.8171024695564  </td><td>14.0258857793879  </td><td>0                 </td><td>0                 </td></tr>\n",
       "\t<tr><th scope=row>result.291</th><td>7.66448017017107 </td><td>0.19912481851329 </td><td>0.309437341502682</td><td>0.297459679569566</td><td>0.982411513712615</td><td>0.20192784180578 </td><td>13.8381533873215 </td><td>12.8444654829907 </td><td>7.88083977151525 </td><td>0                </td><td>0                </td></tr>\n",
       "\t<tr><th scope=row>result.292</th><td>16.1155035867875 </td><td>0.368585987909274</td><td>0.459599408908583</td><td>0.409621429866865</td><td>0.675920622391142</td><td>0.244223823682481</td><td>11.9323093791748 </td><td>12.3679707699399 </td><td>12.4338987981996 </td><td>0                </td><td>0                </td></tr>\n",
       "\t<tr><th scope=row>result.293</th><td>2.01971540310043 </td><td>0.369509852517712</td><td>0.873130416787254</td><td>0.803590855770195</td><td>0.437399781575447</td><td>0.184410378909252</td><td>8.36850219121052 </td><td>10.3911337034423 </td><td>8.68334209344395 </td><td>0                </td><td>0                </td></tr>\n",
       "\t<tr><th scope=row>result.294</th><td>19.6843773079491  </td><td>0.436617670571986 </td><td>0.968854352795431 </td><td>0.0778333306862848</td><td>0.93319284000142  </td><td>0.603862827607752 </td><td>10.1955376289383  </td><td>11.8813447121392  </td><td>11.7008692366476  </td><td>0                 </td><td>0                 </td></tr>\n",
       "\t<tr><th scope=row>result.295</th><td>16.2342051893532  </td><td>0.0829214379191055</td><td>0.458535727423377 </td><td>0.0469238189308496</td><td>0.879529399691317 </td><td>0.04329109582781  </td><td>7.98409046838964  </td><td>7.61624287983108  </td><td>10.7268145936023  </td><td>0                 </td><td>0                 </td></tr>\n",
       "\t<tr><th scope=row>result.296</th><td>5.44358806149909 </td><td>0.261788683264123</td><td>0.221677686170444</td><td>0.570131903069921</td><td>0.486024779815574</td><td>0.366905321883006</td><td>9.06059836359449 </td><td>8.71377526721417 </td><td>11.5351533184991 </td><td>0                </td><td>0                </td></tr>\n",
       "\t<tr><th scope=row>result.297</th><td>12.0605537698993 </td><td>0.479548166430853</td><td>0.112286659063951</td><td>0.712702050344219</td><td>0.521446570137225</td><td>0.118923577369154</td><td>8.54577830212108 </td><td>9.70313507019862 </td><td>12.2440168666456 </td><td>0                </td><td>0                </td></tr>\n",
       "\t<tr><th scope=row>result.298</th><td>15.0125877468543 </td><td>0.581909218786743</td><td>0.124581407751935</td><td>0.271949881004757</td><td>0.410691927978133</td><td>0.795454444286374</td><td>8.66464994294886 </td><td>11.6601213992655 </td><td>7.94467416534328 </td><td>0                </td><td>0                </td></tr>\n",
       "\t<tr><th scope=row>result.299</th><td>16.424546547364   </td><td>0.0221058780446257</td><td>0.81536689268932  </td><td>0.170271440431835 </td><td>0.702494579046583 </td><td>0.457355788557723 </td><td>11.8689452510929  </td><td>11.0247353762731  </td><td>13.7912190416689  </td><td>0                 </td><td>0                 </td></tr>\n",
       "\t<tr><th scope=row>result.300</th><td>15.3865502889436 </td><td>0.842743658828611</td><td>0.960154742981799</td><td>0.817367924265983</td><td>0.894190128757728</td><td>0.261147248983115</td><td>9.45920063143934 </td><td>10.3536520833938 </td><td>9.55029943562639 </td><td>0                </td><td>0                </td></tr>\n",
       "</tbody>\n",
       "</table>\n"
      ],
      "text/latex": [
       "\\begin{tabular}{r|lllllllllll}\n",
       "  & b & cea & cel & cpa & mu\\_A & mu\\_L & tau\\_E & tau\\_L & tau\\_P & loglik & loglik.se\\\\\n",
       "\\hline\n",
       "\t1 & 1.18702207924403     & 0.0132088702404268   & 0.0172244842038504   & 0.00466955565765198  & 1.89532307252467e-05 & 0.0158937470126093   & 15.7219226675806     & 7.18906255435284     & 18.0248791283609     & 0                    & 0                   \\\\\n",
       "\tresult.1 & 5.52282078601297  & 0.499507692406471 & 0.83039343289663  & 0.959208806427946 & 0.835059919251968 & 0.360434844091511 & 9.23125377111369  & 10.2554423449477  & 10.3081382080908  & 0                 & 0                \\\\\n",
       "\tresult.2 & 7.97146527387094  & 0.52984367136257  & 0.691870120883519 & 0.500076979296081 & 0.878555478563695 & 0.519937501428111 & 11.1560376030676  & 12.7598894404714  & 7.37702736375094  & 0                 & 0                \\\\\n",
       "\tresult.3 & 8.9077548135531    & 0.0739274118712033 & 0.210642327424111  & 0.704837658481925  & 0.723508558295621  & 0.58550908366215   & 11.0912839707778   & 9.5771072787519    & 13.4753024788952   & 0                  & 0                 \\\\\n",
       "\tresult.4 & 7.47974366895549   & 0.806610928669616  & 0.945084036164064  & 0.791901407409926  & 0.0959218248260303 & 0.869375999719837  & 12.0820577007145   & 12.2212997778009   & 11.8784170202596   & 0                  & 0                 \\\\\n",
       "\tresult.5 & 4.63608242669047   & 0.488848146820537  & 0.0886166690834093 & 0.795207970518513  & 0.895596982649812  & 0.794622072502997  & 11.5742243826336   & 12.2801886244985   & 8.73397349198552   & 0                  & 0                 \\\\\n",
       "\tresult.6 & 1.79360570080676   & 0.0155731018026222 & 0.231216107886615  & 0.729611615063775  & 0.109727364215598  & 0.321936722675773  & 12.5026444675247   & 14.1751720912225   & 13.3586404249093   & 0                  & 0                 \\\\\n",
       "\tresult.7 & 11.0682484718958   & 0.0540028015834112 & 0.785516266887521  & 0.24966387834523   & 0.586884467658261  & 0.581053184112585  & 11.3812223450307   & 10.6224086177406   & 12.5088116168335   & 0                  & 0                 \\\\\n",
       "\tresult.8 & 3.49337125015857  & 0.20636506105544  & 0.622607257058393 & 0.126727402070197 & 0.761449187776153 & 0.116426390801872 & 12.2537181268514  & 10.6494670305686  & 9.68160309102134  & 0                 & 0                \\\\\n",
       "\tresult.9 & 17.6644441190553  & 0.561200204789967 & 0.627449603594227 & 0.503227068856711 & 0.250778104018271 & 0.113392672361844 & 8.62968685348227  & 7.35931125998952  & 10.3376159557919  & 0                 & 0                \\\\\n",
       "\tresult.10 & 5.9417506560276    & 0.0201273943776579 & 0.658191742132879  & 0.590903583942118  & 0.687960838619504  & 0.818166088804081  & 13.3954431697935   & 13.0336080537816   & 7.89587611152559   & 0                  & 0                 \\\\\n",
       "\tresult.11 & 7.07108262083688  & 0.167965772903418 & 0.514676207300176 & 0.918025891741324 & 0.531461821819585 & 0.582757845299061 & 11.3762653168219  & 11.4905596005815  & 13.9260332625858  & 0                 & 0                \\\\\n",
       "\tresult.12 & 16.2933453329153  & 0.613177713122836 & 0.138066128520238 & 0.646144536388299 & 0.210562248767373 & 0.375344120086758 & 10.6731695622144  & 13.6698347106913  & 11.3284388460087  & 0                 & 0                \\\\\n",
       "\tresult.13 & 11.4557132719941  & 0.693680109906305 & 0.752625364231586 & 0.384479901889626 & 0.547359685582496 & 0.551999645581026 & 7.46523866779221  & 12.0854490334201  & 9.01329563116722  & 0                 & 0                \\\\\n",
       "\tresult.14 & 0.852824940505145    & 0.256362294520531    & 0.497958318264236    & 0.106713144329007    & 0.122175265846948    & 9.36770441865556e-05 & 9.94308798823858     & 11.7376871957636     & 13.8474783995727     & 0                    & 0                   \\\\\n",
       "\tresult.15 & 15.5484657249895   & 0.940557452422815  & 0.460757423064416  & 0.399497540908896  & 0.698455148265891  & 0.0743747969636142 & 12.4652547090155   & 7.97464318186364   & 7.30827940451327   & 0                  & 0                 \\\\\n",
       "\tresult.16 & 1.34188614765373  & 0.66884331019228  & 0.401438344827223 & 0.787432583439331 & 0.956974325124423 & 0.305841093656425 & 10.5774604408559  & 8.09205954245765  & 13.2159268771231  & 0                 & 0                \\\\\n",
       "\tresult.17 & 15.1358873726376   & 0.229089771334279  & 0.0675954407350846 & 0.974830525134008  & 0.95614341645286   & 0.120696014993325  & 13.7979108765017   & 12.909875205226    & 7.89371020335311   & 0                  & 0                 \\\\\n",
       "\tresult.18 & 4.32538315473034   & 0.523842532017939  & 0.45968568464006   & 0.0156640332044206 & 0.0563367420942899 & 0.22393555472995   & 8.571371323142     & 10.4850228651673   & 11.0468313790791   & 0                  & 0                 \\\\\n",
       "\tresult.19 & 7.38517523172682  & 0.205010323396457 & 0.15576483118422  & 0.207836349667731 & 0.171819951055411 & 0.525683341981568 & 7.87759409042723  & 7.01094329982452  & 8.20353493798677  & 0                 & 0                \\\\\n",
       "\tresult.20 & 3.9162080347174   & 0.412571612148796 & 0.050152491077055 & 0.913632516202324 & 0.979385763615612 & 0.946647266365836 & 11.9456222923592  & 9.42235136796041  & 12.5290367999596  & 0                 & 0                \\\\\n",
       "\tresult.21 & 9.45463031561361  & 0.15655279877295  & 0.105221345576554 & 0.257182012647437 & 0.526543513457803 & 0.15911079178465  & 13.0263588886566  & 12.5844071947276  & 10.8173980801982  & 0                 & 0                \\\\\n",
       "\tresult.22 & 13.0875224316829  & 0.532802533372949 & 0.906485019039123 & 0.802184610103005 & 0.620404782932894 & 0.850485439364103 & 13.4224797235295  & 13.0722015572779  & 10.5697912655413  & 0                 & 0                \\\\\n",
       "\tresult.23 & 3.03562688569838  & 0.856453798560359 & 0.760118723831106 & 0.513707739801653 & 0.172332395809827 & 0.515751180864828 & 13.2873604891445  & 8.77071992715792  & 8.63396998921119  & 0                 & 0                \\\\\n",
       "\tresult.24 & 10.7797883140216  & 0.760785296836153 & 0.491312632900024 & 0.189243381920559 & 0.647502866315214 & 0.7323074550976   & 11.5979507035194  & 7.76714397585231  & 13.8727758332694  & 0                 & 0                \\\\\n",
       "\tresult.25 & 5.30250988473335   & 0.673463276240833  & 0.0585237531966747 & 0.23808949647563   & 0.595327334334991  & 0.203723240688386  & 8.7921038884111    & 9.50583959190954   & 11.4583550120114   & 0                  & 0                 \\\\\n",
       "\tresult.26 & 10.1454940016562  & 0.34045232093781  & 0.310735918781141 & 0.453009266196124 & 0.815784512513938 & 0.154755545534366 & 7.30426497751267  & 11.2809090049908  & 11.8387306490472  & 0                 & 0                \\\\\n",
       "\tresult.27 & 9.2159953729087   & 0.914705041126808 & 0.174658870157803 & 0.11513349233093  & 0.242768329930214 & 0.145596938782889 & 11.2512942897325  & 12.195987706953   & 12.2355813311644  & 0                 & 0                \\\\\n",
       "\tresult.28 & 0.949889787801784  & 0.317789107667653  & 0.345768065366984  & 0.594663945572003  & 0.512620992143653  & 0.0157844011107677 & 9.79945046458525   & 13.2328000822362   & 10.2080847138789   & 0                  & 0                 \\\\\n",
       "\tresult.29 & 7.59233502476468    & 0.01725635634013    & 0.00588565768286652 & 0.139098953624794   & 0.673717961548862   & 0.238905949311214   & 13.3638805216368    & 8.5770144284271     & 7.5878227811638     & 0                   & 0                  \\\\\n",
       "\t⋮ & ⋮ & ⋮ & ⋮ & ⋮ & ⋮ & ⋮ & ⋮ & ⋮ & ⋮ & ⋮ & ⋮\\\\\n",
       "\tresult.271 & 19.1679509973989   & 0.436381431354188  & 0.178222813799617  & 0.0387711535924613 & 0.270684629759353  & 0.186915020311322  & 13.7780162287447   & 7.8194121305935    & 11.3927770738307   & 0                  & 0                 \\\\\n",
       "\tresult.272 & 10.690840892071   & 0.429649265907059 & 0.475858396604628 & 0.62107181311856  & 0.162097759113899 & 0.642966120667559 & 10.285418414178   & 11.6000576576385  & 8.38462578269611  & 0                 & 0                \\\\\n",
       "\tresult.273 & 7.87317760107782   & 0.121226702261012  & 0.665824050282303  & 0.468632757417878  & 0.600885525776197  & 0.0620667641262899 & 7.32830384060187   & 7.86145062364221   & 10.7786612730916   & 0                  & 0                 \\\\\n",
       "\tresult.274 & 12.6453364537593   & 0.320715523988397  & 0.977665727579885  & 0.0688579252926358 & 0.336903601572711  & 0.232163168997848  & 11.0676301637361   & 8.47171127137307   & 10.2035277695643   & 0                  & 0                 \\\\\n",
       "\tresult.275 & 19.4485772462129   & 0.0807052209124565 & 0.549636433802989  & 0.722756384821341  & 0.285781170160707  & 0.428589307810976  & 9.38602036279753   & 8.13721361365027   & 8.45269954045163   & 0                  & 0                 \\\\\n",
       "\tresult.276 & 8.89656951682217  & 0.789011555806702 & 0.418218695810621 & 0.993553243477404 & 0.674821247747914 & 0.92282421176249  & 12.7901129666868  & 12.4585845047648  & 7.02869435186855  & 0                 & 0                \\\\\n",
       "\tresult.277 & 15.5465633989624  & 0.655263146130263 & 0.13493428852696  & 0.190048893148763 & 0.564169164950015 & 0.131321517594409 & 8.83951663354538  & 8.1623813134168   & 12.5030945551872  & 0                 & 0                \\\\\n",
       "\tresult.278 & 4.1909700637005   & 0.70440394455126  & 0.129995707849209 & 0.386800458559241 & 0.554199879266071 & 0.442849422921881 & 8.24663354550465  & 13.5239315890669  & 10.1546183916778  & 0                 & 0                \\\\\n",
       "\tresult.279 & 7.54639637715686   & 0.0732121749149667 & 0.776053980191631  & 0.571435335613576  & 0.918194976648947  & 0.760955765232329  & 8.18202542242876   & 8.04367013995621   & 13.4721754108836   & 0                  & 0                 \\\\\n",
       "\tresult.280 & 11.7205608969883  & 0.118070932715457 & 0.903248217766861 & 0.179269977561718 & 0.740342362239211 & 0.835237667351284 & 10.8748014660839  & 10.8621670838781  & 7.72725661901185  & 0                 & 0                \\\\\n",
       "\tresult.281 & 12.352542998059   & 0.619112733972394 & 0.473264480933281 & 0.245879639522978 & 0.525313599518498 & 0.585964118233453 & 13.9522217244603  & 9.0819766891824   & 12.8813905358321  & 0                 & 0                \\\\\n",
       "\tresult.282 & 10.3668415168127   & 0.185693678559628  & 0.869408507842665  & 0.402675619734538  & 0.0645577341600609 & 0.113151903612595  & 7.58064821433759   & 9.9406022749898    & 13.7672349952764   & 0                  & 0                 \\\\\n",
       "\tresult.283 & 19.8531584641488  & 0.161385588326417 & 0.849969895155411 & 0.845304117308422 & 0.50296483555744  & 0.601446252373886 & 8.99920631410096  & 13.6610427115821  & 9.94871502171274  & 0                 & 0                \\\\\n",
       "\tresult.284 & 16.1986863921496  & 0.889838632533586 & 0.388169402027062 & 0.77740038745667  & 0.960812375811806 & 0.344730595482703 & 11.4342185440068  & 8.43262090479642  & 10.0063404866116  & 0                 & 0                \\\\\n",
       "\tresult.285 & 0.47726314755642    & 0.460036271802706   & 0.877683433541166   & 0.0709990117184861  & 0.539448479616344   & 0.00923459853304295 & 8.52213931581891    & 7.82508379836924    & 7.67198759030847    & 0                   & 0                  \\\\\n",
       "\tresult.286 & 18.3625727047328  & 0.177854608016695 & 0.026152454854402 & 0.906679478921131 & 0.147795436494821 & 0.173274392881643 & 9.09936293543861  & 9.67071357931541  & 10.875125684639   & 0                 & 0                \\\\\n",
       "\tresult.287 & 16.228037890101   & 0.597961900235959 & 0.170913293020139 & 0.400033293379355 & 0.436096927993439 & 0.54523468507642  & 8.6862273857841   & 12.5196961192395  & 8.4638307418219   & 0                 & 0                \\\\\n",
       "\tresult.288 & 15.7458820684545  & 0.477721560454157 & 0.529251361879322 & 0.708103336581455 & 0.640325832138073 & 0.991994523007636 & 9.4334859465972   & 12.2781116846647  & 10.530332664791   & 0                 & 0                \\\\\n",
       "\tresult.289 & 12.0265187711656   & 0.0263228477694504 & 0.304964076931453  & 0.70659380727495   & 0.0874511906803317 & 0.250777336524555  & 9.38143187648256   & 9.15190113069317   & 10.9273843695109   & 0                  & 0                 \\\\\n",
       "\tresult.290 & 10.7060225173891   & 0.0152864331961458 & 0.838654350532261  & 0.870253142046376  & 0.0285530779093294 & 0.458001848362208  & 13.4770722720023   & 11.8171024695564   & 14.0258857793879   & 0                  & 0                 \\\\\n",
       "\tresult.291 & 7.66448017017107  & 0.19912481851329  & 0.309437341502682 & 0.297459679569566 & 0.982411513712615 & 0.20192784180578  & 13.8381533873215  & 12.8444654829907  & 7.88083977151525  & 0                 & 0                \\\\\n",
       "\tresult.292 & 16.1155035867875  & 0.368585987909274 & 0.459599408908583 & 0.409621429866865 & 0.675920622391142 & 0.244223823682481 & 11.9323093791748  & 12.3679707699399  & 12.4338987981996  & 0                 & 0                \\\\\n",
       "\tresult.293 & 2.01971540310043  & 0.369509852517712 & 0.873130416787254 & 0.803590855770195 & 0.437399781575447 & 0.184410378909252 & 8.36850219121052  & 10.3911337034423  & 8.68334209344395  & 0                 & 0                \\\\\n",
       "\tresult.294 & 19.6843773079491   & 0.436617670571986  & 0.968854352795431  & 0.0778333306862848 & 0.93319284000142   & 0.603862827607752  & 10.1955376289383   & 11.8813447121392   & 11.7008692366476   & 0                  & 0                 \\\\\n",
       "\tresult.295 & 16.2342051893532   & 0.0829214379191055 & 0.458535727423377  & 0.0469238189308496 & 0.879529399691317  & 0.04329109582781   & 7.98409046838964   & 7.61624287983108   & 10.7268145936023   & 0                  & 0                 \\\\\n",
       "\tresult.296 & 5.44358806149909  & 0.261788683264123 & 0.221677686170444 & 0.570131903069921 & 0.486024779815574 & 0.366905321883006 & 9.06059836359449  & 8.71377526721417  & 11.5351533184991  & 0                 & 0                \\\\\n",
       "\tresult.297 & 12.0605537698993  & 0.479548166430853 & 0.112286659063951 & 0.712702050344219 & 0.521446570137225 & 0.118923577369154 & 8.54577830212108  & 9.70313507019862  & 12.2440168666456  & 0                 & 0                \\\\\n",
       "\tresult.298 & 15.0125877468543  & 0.581909218786743 & 0.124581407751935 & 0.271949881004757 & 0.410691927978133 & 0.795454444286374 & 8.66464994294886  & 11.6601213992655  & 7.94467416534328  & 0                 & 0                \\\\\n",
       "\tresult.299 & 16.424546547364    & 0.0221058780446257 & 0.81536689268932   & 0.170271440431835  & 0.702494579046583  & 0.457355788557723  & 11.8689452510929   & 11.0247353762731   & 13.7912190416689   & 0                  & 0                 \\\\\n",
       "\tresult.300 & 15.3865502889436  & 0.842743658828611 & 0.960154742981799 & 0.817367924265983 & 0.894190128757728 & 0.261147248983115 & 9.45920063143934  & 10.3536520833938  & 9.55029943562639  & 0                 & 0                \\\\\n",
       "\\end{tabular}\n"
      ],
      "text/plain": [
       "                           b                cea                 cel\n",
       "1           1.18702207924403 0.0132088702404268  0.0172244842038504\n",
       "result.1    5.52282078601297  0.499507692406471    0.83039343289663\n",
       "result.2    7.97146527387094   0.52984367136257   0.691870120883519\n",
       "result.3     8.9077548135531 0.0739274118712033   0.210642327424111\n",
       "result.4    7.47974366895549  0.806610928669616   0.945084036164064\n",
       "result.5    4.63608242669047  0.488848146820537  0.0886166690834093\n",
       "result.6    1.79360570080676 0.0155731018026222   0.231216107886615\n",
       "result.7    11.0682484718958 0.0540028015834112   0.785516266887521\n",
       "result.8    3.49337125015857   0.20636506105544   0.622607257058393\n",
       "result.9    17.6644441190553  0.561200204789967   0.627449603594227\n",
       "result.10    5.9417506560276 0.0201273943776579   0.658191742132879\n",
       "result.11   7.07108262083688  0.167965772903418   0.514676207300176\n",
       "result.12   16.2933453329153  0.613177713122836   0.138066128520238\n",
       "result.13   11.4557132719941  0.693680109906305   0.752625364231586\n",
       "result.14  0.852824940505145  0.256362294520531   0.497958318264236\n",
       "result.15   15.5484657249895  0.940557452422815   0.460757423064416\n",
       "result.16   1.34188614765373   0.66884331019228   0.401438344827223\n",
       "result.17   15.1358873726376  0.229089771334279  0.0675954407350846\n",
       "result.18   4.32538315473034  0.523842532017939    0.45968568464006\n",
       "result.19   7.38517523172682  0.205010323396457    0.15576483118422\n",
       "result.20    3.9162080347174  0.412571612148796   0.050152491077055\n",
       "result.21   9.45463031561361   0.15655279877295   0.105221345576554\n",
       "result.22   13.0875224316829  0.532802533372949   0.906485019039123\n",
       "result.23   3.03562688569838  0.856453798560359   0.760118723831106\n",
       "result.24   10.7797883140216  0.760785296836153   0.491312632900024\n",
       "result.25   5.30250988473335  0.673463276240833  0.0585237531966747\n",
       "result.26   10.1454940016562   0.34045232093781   0.310735918781141\n",
       "result.27    9.2159953729087  0.914705041126808   0.174658870157803\n",
       "result.28  0.949889787801784  0.317789107667653   0.345768065366984\n",
       "result.29   7.59233502476468   0.01725635634013 0.00588565768286652\n",
       "⋮                          ⋮                  ⋮                   ⋮\n",
       "result.271  19.1679509973989  0.436381431354188   0.178222813799617\n",
       "result.272   10.690840892071  0.429649265907059   0.475858396604628\n",
       "result.273  7.87317760107782  0.121226702261012   0.665824050282303\n",
       "result.274  12.6453364537593  0.320715523988397   0.977665727579885\n",
       "result.275  19.4485772462129 0.0807052209124565   0.549636433802989\n",
       "result.276  8.89656951682217  0.789011555806702   0.418218695810621\n",
       "result.277  15.5465633989624  0.655263146130263    0.13493428852696\n",
       "result.278   4.1909700637005   0.70440394455126   0.129995707849209\n",
       "result.279  7.54639637715686 0.0732121749149667   0.776053980191631\n",
       "result.280  11.7205608969883  0.118070932715457   0.903248217766861\n",
       "result.281   12.352542998059  0.619112733972394   0.473264480933281\n",
       "result.282  10.3668415168127  0.185693678559628   0.869408507842665\n",
       "result.283  19.8531584641488  0.161385588326417   0.849969895155411\n",
       "result.284  16.1986863921496  0.889838632533586   0.388169402027062\n",
       "result.285  0.47726314755642  0.460036271802706   0.877683433541166\n",
       "result.286  18.3625727047328  0.177854608016695   0.026152454854402\n",
       "result.287   16.228037890101  0.597961900235959   0.170913293020139\n",
       "result.288  15.7458820684545  0.477721560454157   0.529251361879322\n",
       "result.289  12.0265187711656 0.0263228477694504   0.304964076931453\n",
       "result.290  10.7060225173891 0.0152864331961458   0.838654350532261\n",
       "result.291  7.66448017017107   0.19912481851329   0.309437341502682\n",
       "result.292  16.1155035867875  0.368585987909274   0.459599408908583\n",
       "result.293  2.01971540310043  0.369509852517712   0.873130416787254\n",
       "result.294  19.6843773079491  0.436617670571986   0.968854352795431\n",
       "result.295  16.2342051893532 0.0829214379191055   0.458535727423377\n",
       "result.296  5.44358806149909  0.261788683264123   0.221677686170444\n",
       "result.297  12.0605537698993  0.479548166430853   0.112286659063951\n",
       "result.298  15.0125877468543  0.581909218786743   0.124581407751935\n",
       "result.299   16.424546547364 0.0221058780446257    0.81536689268932\n",
       "result.300  15.3865502889436  0.842743658828611   0.960154742981799\n",
       "                           cpa                 mu_A                 mu_L\n",
       "1          0.00466955565765198 1.89532307252467e-05   0.0158937470126093\n",
       "result.1     0.959208806427946    0.835059919251968    0.360434844091511\n",
       "result.2     0.500076979296081    0.878555478563695    0.519937501428111\n",
       "result.3     0.704837658481925    0.723508558295621     0.58550908366215\n",
       "result.4     0.791901407409926   0.0959218248260303    0.869375999719837\n",
       "result.5     0.795207970518513    0.895596982649812    0.794622072502997\n",
       "result.6     0.729611615063775    0.109727364215598    0.321936722675773\n",
       "result.7      0.24966387834523    0.586884467658261    0.581053184112585\n",
       "result.8     0.126727402070197    0.761449187776153    0.116426390801872\n",
       "result.9     0.503227068856711    0.250778104018271    0.113392672361844\n",
       "result.10    0.590903583942118    0.687960838619504    0.818166088804081\n",
       "result.11    0.918025891741324    0.531461821819585    0.582757845299061\n",
       "result.12    0.646144536388299    0.210562248767373    0.375344120086758\n",
       "result.13    0.384479901889626    0.547359685582496    0.551999645581026\n",
       "result.14    0.106713144329007    0.122175265846948 9.36770441865556e-05\n",
       "result.15    0.399497540908896    0.698455148265891   0.0743747969636142\n",
       "result.16    0.787432583439331    0.956974325124423    0.305841093656425\n",
       "result.17    0.974830525134008     0.95614341645286    0.120696014993325\n",
       "result.18   0.0156640332044206   0.0563367420942899     0.22393555472995\n",
       "result.19    0.207836349667731    0.171819951055411    0.525683341981568\n",
       "result.20    0.913632516202324    0.979385763615612    0.946647266365836\n",
       "result.21    0.257182012647437    0.526543513457803     0.15911079178465\n",
       "result.22    0.802184610103005    0.620404782932894    0.850485439364103\n",
       "result.23    0.513707739801653    0.172332395809827    0.515751180864828\n",
       "result.24    0.189243381920559    0.647502866315214      0.7323074550976\n",
       "result.25     0.23808949647563    0.595327334334991    0.203723240688386\n",
       "result.26    0.453009266196124    0.815784512513938    0.154755545534366\n",
       "result.27     0.11513349233093    0.242768329930214    0.145596938782889\n",
       "result.28    0.594663945572003    0.512620992143653   0.0157844011107677\n",
       "result.29    0.139098953624794    0.673717961548862    0.238905949311214\n",
       "⋮                            ⋮                    ⋮                    ⋮\n",
       "result.271  0.0387711535924613    0.270684629759353    0.186915020311322\n",
       "result.272    0.62107181311856    0.162097759113899    0.642966120667559\n",
       "result.273   0.468632757417878    0.600885525776197   0.0620667641262899\n",
       "result.274  0.0688579252926358    0.336903601572711    0.232163168997848\n",
       "result.275   0.722756384821341    0.285781170160707    0.428589307810976\n",
       "result.276   0.993553243477404    0.674821247747914     0.92282421176249\n",
       "result.277   0.190048893148763    0.564169164950015    0.131321517594409\n",
       "result.278   0.386800458559241    0.554199879266071    0.442849422921881\n",
       "result.279   0.571435335613576    0.918194976648947    0.760955765232329\n",
       "result.280   0.179269977561718    0.740342362239211    0.835237667351284\n",
       "result.281   0.245879639522978    0.525313599518498    0.585964118233453\n",
       "result.282   0.402675619734538   0.0645577341600609    0.113151903612595\n",
       "result.283   0.845304117308422     0.50296483555744    0.601446252373886\n",
       "result.284    0.77740038745667    0.960812375811806    0.344730595482703\n",
       "result.285  0.0709990117184861    0.539448479616344  0.00923459853304295\n",
       "result.286   0.906679478921131    0.147795436494821    0.173274392881643\n",
       "result.287   0.400033293379355    0.436096927993439     0.54523468507642\n",
       "result.288   0.708103336581455    0.640325832138073    0.991994523007636\n",
       "result.289    0.70659380727495   0.0874511906803317    0.250777336524555\n",
       "result.290   0.870253142046376   0.0285530779093294    0.458001848362208\n",
       "result.291   0.297459679569566    0.982411513712615     0.20192784180578\n",
       "result.292   0.409621429866865    0.675920622391142    0.244223823682481\n",
       "result.293   0.803590855770195    0.437399781575447    0.184410378909252\n",
       "result.294  0.0778333306862848     0.93319284000142    0.603862827607752\n",
       "result.295  0.0469238189308496    0.879529399691317     0.04329109582781\n",
       "result.296   0.570131903069921    0.486024779815574    0.366905321883006\n",
       "result.297   0.712702050344219    0.521446570137225    0.118923577369154\n",
       "result.298   0.271949881004757    0.410691927978133    0.795454444286374\n",
       "result.299   0.170271440431835    0.702494579046583    0.457355788557723\n",
       "result.300   0.817367924265983    0.894190128757728    0.261147248983115\n",
       "                      tau_E            tau_L            tau_P loglik loglik.se\n",
       "1          15.7219226675806 7.18906255435284 18.0248791283609      0         0\n",
       "result.1   9.23125377111369 10.2554423449477 10.3081382080908      0         0\n",
       "result.2   11.1560376030676 12.7598894404714 7.37702736375094      0         0\n",
       "result.3   11.0912839707778  9.5771072787519 13.4753024788952      0         0\n",
       "result.4   12.0820577007145 12.2212997778009 11.8784170202596      0         0\n",
       "result.5   11.5742243826336 12.2801886244985 8.73397349198552      0         0\n",
       "result.6   12.5026444675247 14.1751720912225 13.3586404249093      0         0\n",
       "result.7   11.3812223450307 10.6224086177406 12.5088116168335      0         0\n",
       "result.8   12.2537181268514 10.6494670305686 9.68160309102134      0         0\n",
       "result.9   8.62968685348227 7.35931125998952 10.3376159557919      0         0\n",
       "result.10  13.3954431697935 13.0336080537816 7.89587611152559      0         0\n",
       "result.11  11.3762653168219 11.4905596005815 13.9260332625858      0         0\n",
       "result.12  10.6731695622144 13.6698347106913 11.3284388460087      0         0\n",
       "result.13  7.46523866779221 12.0854490334201 9.01329563116722      0         0\n",
       "result.14  9.94308798823858 11.7376871957636 13.8474783995727      0         0\n",
       "result.15  12.4652547090155 7.97464318186364 7.30827940451327      0         0\n",
       "result.16  10.5774604408559 8.09205954245765 13.2159268771231      0         0\n",
       "result.17  13.7979108765017  12.909875205226 7.89371020335311      0         0\n",
       "result.18    8.571371323142 10.4850228651673 11.0468313790791      0         0\n",
       "result.19  7.87759409042723 7.01094329982452 8.20353493798677      0         0\n",
       "result.20  11.9456222923592 9.42235136796041 12.5290367999596      0         0\n",
       "result.21  13.0263588886566 12.5844071947276 10.8173980801982      0         0\n",
       "result.22  13.4224797235295 13.0722015572779 10.5697912655413      0         0\n",
       "result.23  13.2873604891445 8.77071992715792 8.63396998921119      0         0\n",
       "result.24  11.5979507035194 7.76714397585231 13.8727758332694      0         0\n",
       "result.25   8.7921038884111 9.50583959190954 11.4583550120114      0         0\n",
       "result.26  7.30426497751267 11.2809090049908 11.8387306490472      0         0\n",
       "result.27  11.2512942897325  12.195987706953 12.2355813311644      0         0\n",
       "result.28  9.79945046458525 13.2328000822362 10.2080847138789      0         0\n",
       "result.29  13.3638805216368  8.5770144284271  7.5878227811638      0         0\n",
       "⋮                         ⋮                ⋮                ⋮      ⋮         ⋮\n",
       "result.271 13.7780162287447  7.8194121305935 11.3927770738307      0         0\n",
       "result.272  10.285418414178 11.6000576576385 8.38462578269611      0         0\n",
       "result.273 7.32830384060187 7.86145062364221 10.7786612730916      0         0\n",
       "result.274 11.0676301637361 8.47171127137307 10.2035277695643      0         0\n",
       "result.275 9.38602036279753 8.13721361365027 8.45269954045163      0         0\n",
       "result.276 12.7901129666868 12.4585845047648 7.02869435186855      0         0\n",
       "result.277 8.83951663354538  8.1623813134168 12.5030945551872      0         0\n",
       "result.278 8.24663354550465 13.5239315890669 10.1546183916778      0         0\n",
       "result.279 8.18202542242876 8.04367013995621 13.4721754108836      0         0\n",
       "result.280 10.8748014660839 10.8621670838781 7.72725661901185      0         0\n",
       "result.281 13.9522217244603  9.0819766891824 12.8813905358321      0         0\n",
       "result.282 7.58064821433759  9.9406022749898 13.7672349952764      0         0\n",
       "result.283 8.99920631410096 13.6610427115821 9.94871502171274      0         0\n",
       "result.284 11.4342185440068 8.43262090479642 10.0063404866116      0         0\n",
       "result.285 8.52213931581891 7.82508379836924 7.67198759030847      0         0\n",
       "result.286 9.09936293543861 9.67071357931541  10.875125684639      0         0\n",
       "result.287  8.6862273857841 12.5196961192395  8.4638307418219      0         0\n",
       "result.288  9.4334859465972 12.2781116846647  10.530332664791      0         0\n",
       "result.289 9.38143187648256 9.15190113069317 10.9273843695109      0         0\n",
       "result.290 13.4770722720023 11.8171024695564 14.0258857793879      0         0\n",
       "result.291 13.8381533873215 12.8444654829907 7.88083977151525      0         0\n",
       "result.292 11.9323093791748 12.3679707699399 12.4338987981996      0         0\n",
       "result.293 8.36850219121052 10.3911337034423 8.68334209344395      0         0\n",
       "result.294 10.1955376289383 11.8813447121392 11.7008692366476      0         0\n",
       "result.295 7.98409046838964 7.61624287983108 10.7268145936023      0         0\n",
       "result.296 9.06059836359449 8.71377526721417 11.5351533184991      0         0\n",
       "result.297 8.54577830212108 9.70313507019862 12.2440168666456      0         0\n",
       "result.298 8.66464994294886 11.6601213992655 7.94467416534328      0         0\n",
       "result.299 11.8689452510929 11.0247353762731 13.7912190416689      0         0\n",
       "result.300 9.45920063143934 10.3536520833938 9.55029943562639      0         0"
      ]
     },
     "metadata": {},
     "output_type": "display_data"
    }
   ],
   "source": [
    "results"
   ]
  },
  {
   "cell_type": "code",
   "execution_count": null,
   "metadata": {
    "collapsed": true
   },
   "outputs": [],
   "source": []
  }
 ],
 "metadata": {
  "kernelspec": {
   "display_name": "R",
   "language": "R",
   "name": "ir"
  },
  "language_info": {
   "codemirror_mode": "r",
   "file_extension": ".r",
   "mimetype": "text/x-r-source",
   "name": "R",
   "pygments_lexer": "r",
   "version": "3.3.1"
  }
 },
 "nbformat": 4,
 "nbformat_minor": 0
}
