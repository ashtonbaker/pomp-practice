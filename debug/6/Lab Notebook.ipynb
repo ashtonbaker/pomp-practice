{
 "cells": [
  {
   "cell_type": "markdown",
   "metadata": {},
   "source": [
    "## Load Packages"
   ]
  },
  {
   "cell_type": "code",
   "execution_count": null,
   "metadata": {
    "collapsed": false
   },
   "outputs": [],
   "source": [
    "library(ggplot2)\n",
    "library(plyr)\n",
    "library(reshape2)\n",
    "library(pomp)\n",
    "library(magrittr)\n",
    "library(reshape2)\n",
    "library(foreach)\n",
    "stopifnot(packageVersion(\"pomp\")>=\"1.4.9\")"
   ]
  },
  {
   "cell_type": "markdown",
   "metadata": {},
   "source": [
    "## Base model in **pomp**\n",
    "We begin by importing the data for the experiment. We will initially load only the data for rep 4 into the **pomp** object. Later, we will describe a function that incorporates all of the data to estimate parameters."
   ]
  },
  {
   "cell_type": "code",
   "execution_count": null,
   "metadata": {
    "collapsed": false
   },
   "outputs": [],
   "source": [
    "read.csv(\"./data/data.csv\") %>%subset(weeks <= 40, select=c(weeks,rep,L_obs,P_obs,A_obs)) -> dat\n",
    "head(dat)"
   ]
  },
  {
   "cell_type": "code",
   "execution_count": null,
   "metadata": {
    "collapsed": false
   },
   "outputs": [],
   "source": [
    "LPA_model <- pomp(data = subset(dat, rep==4),\n",
    "              times = \"weeks\", t0 = 0);"
   ]
  },
  {
   "cell_type": "markdown",
   "metadata": {},
   "source": [
    "## LPA model\n",
    "Individuals are categorized as either larvae, pupae, or adults. At time $t$, the number of each is given by $L_t$, $P_t$ and $A_t$, respectively. The time unit is 2 weeks, which is the average amount of time spent in the larval stage in this experiment.\n",
    "\n",
    "Eggs are produced at a rate proportional to the number of adults. Eggs are cannibalized by larvae at a rate $c_{el}$, and by adults at a rate $c_{ea}$. So, the probability of an egg surviving 1 time unit in the presence of $L$ larvae is $\\exp(-c_{el}L)$. Likewise, the probability of an egg surving 1 time unit in the presence of $A$ adults is $\\exp(-c_{ea}A)$.\n",
    "\n",
    "Larvae have a mortality rate of $\\mu_l$ over the course of 2 weeks. If they survive, we assume they become pupae. Pupae are cannibalized by adults at a rate of $-c_{pa}$. So the probability that a pupa will survive 1 time unit in the presence of A adults is $\\exp(-c_{pa} A)$. If they survive, we assume they become adults. - Adults have a mortality rate of $\\mu_A$ over the course of 1 time unit.\n",
    "\n",
    "Thus, the full LPA model is\n",
    "\n",
    "$$\\begin{aligned}\n",
    "L_t &= b A_{t-1} \\exp{(-c_{el} L_{t-1} - c_{ea} A_{t-1})} \\\\\n",
    "P_t &= L_{t-1} (1 - \\mu_1) \\\\\n",
    "A_t &= P_{t-1} \\exp{(-c_{pa} A_{t-1})} + A_{t-1}(1 - \\mu_a)\n",
    "\\end{aligned}$$\n",
    "\n",
    "We can use this as the deterministic skeleton of a **pomp** model:"
   ]
  },
  {
   "cell_type": "code",
   "execution_count": null,
   "metadata": {
    "collapsed": false
   },
   "outputs": [],
   "source": [
    "skel <- Csnippet(' DL = b * A * exp(-cel * L - cea * A);\n",
    "                   DP = L * (1 - ul);\n",
    "                   DA = P * exp(-cpa * A) + A * (1 - ua);');\n",
    "LPA_model <- pomp(LPA_model,\n",
    "    skeleton = map(skel, delta.t=2),\n",
    "    statenames = c('L', 'P', 'A'),\n",
    "    paramnames = c('b', 'cel', 'cea', 'cpa', 'ua', 'ul'));"
   ]
  },
  {
   "cell_type": "markdown",
   "metadata": {},
   "source": [
    "Each experimental repetition was initialized by placing 250 larvae, 5 pupae, and 100 adults in a jar. So we simply initialize our process with the following `Csnippet`:"
   ]
  },
  {
   "cell_type": "code",
   "execution_count": null,
   "metadata": {
    "collapsed": false
   },
   "outputs": [],
   "source": [
    "init <- Csnippet(' L = 250;\n",
    "                   P = 5;\n",
    "                   A = 100;');"
   ]
  },
  {
   "cell_type": "markdown",
   "metadata": {},
   "source": [
    "To incorporate stochasticity to our model, we need to specify a function for $f_{X_n | X_{n - 1}}$. Dennis et al begin with the LPA model specified above, and modify it as follows.\n",
    "\n",
    "* $L_t$ is Poisson distributed with mean $b a_{t-1} \\exp{(-c_{el} l_{t-1} - c_{ea} a_{t-1})}$.\n",
    "* Each larva is given a probability $(1 - \\mu_l)$ of surviving a 2-week period, at which point we assume it becomes a pupa. Therefore, $P_t$ is binomial distributed with $n = l_{t-1}$ and $p = (1 - \\mu_l)$.\n",
    "* Over a 2-week period, we assume that each pupa either survives to become an adult, or dies. Since pupae are cannibalized by adults, the survival probaility is $\\exp(-c_{pa}a_{t-1})$. The survivors are called \"recruits\", and given by $R_t$.\n",
    "* Over a 2-week period, we assume that adult beetles survive with probability $(1 - \\mu_a)$. Thus, the number of survivors $S_t$ is binomially distributed.\n",
    "\n",
    "$$\\begin{aligned}\n",
    "L_t &= \\text{Poisson}(ba_{t-1} \\exp[-c_{el}l_{t-1} - c_{ea}a_{t-1}])\\\\\n",
    "P_t &= \\text{binomial}(l_{t - 1}, (1 - \\mu_l)) \\\\\n",
    "R_t &= \\text{binomial}(p_{t-1}, \\exp[-c_{pa}a_{t-1}]) \\\\\n",
    "S_t &= \\text{binomial}(a_{t-1}, [1 - \\mu_a]) \\\\\n",
    "A_t &= R_t + S_t\n",
    "\\end{aligned}$$\n",
    "\n",
    "We can write a Csnippet to simulate this process as follows:"
   ]
  },
  {
   "cell_type": "code",
   "execution_count": null,
   "metadata": {
    "collapsed": false
   },
   "outputs": [],
   "source": [
    "rproc <- discrete.time.sim( \n",
    "         step.fun=Csnippet(' L = rpois(b * A * exp(-cel * L - cea * A));\n",
    "                             P = rbinom(L, (1 - mu_L));\n",
    "                             int R = rbinom(P, exp(-cpa * A));\n",
    "                             int S = rbinom(A, (1 - mu_A));\n",
    "                             A = R + S;'),\n",
    "         delta.t=2);"
   ]
  },
  {
   "cell_type": "markdown",
   "metadata": {},
   "source": [
    "We assume the measurement error is negligable, and therefore make no attempt to model it. As a result, our `rmeasure` function simply assigns the value of the $L$, $P$, and $A$ states to the respective observation values."
   ]
  },
  {
   "cell_type": "markdown",
   "metadata": {},
   "source": [
    "$$\\begin{aligned}\n",
    "\\sqrt{L_t} &= \\sqrt{bA_{t-1} \\exp(-c_{el} L_{t-1} - c_{ea} A_{t-1})} + E_{1t}\\\\\n",
    "\\sqrt{P_t} &= \\sqrt{L_{t-1}(1 - \\mu_l)} + E_{2t}\\\\\n",
    "\\sqrt{A_t} &= \\sqrt{P_{t-1} exp(-c_{pa}A_{t-1}) + A_{t-1}(1 - \\mu_a)} + E_{3t}\\\\\n",
    "\\end{aligned}$$"
   ]
  },
  {
   "cell_type": "code",
   "execution_count": null,
   "metadata": {
    "collapsed": true
   },
   "outputs": [],
   "source": [
    "rmeas <- Csnippet(\"\n",
    "                    L_obs = L;\n",
    "                    P_obs = P;\n",
    "                    A_obs = A;\");"
   ]
  },
  {
   "cell_type": "code",
   "execution_count": null,
   "metadata": {
    "collapsed": false
   },
   "outputs": [],
   "source": [
    "rproc <- discrete.time.sim( \n",
    "         step.fun=Csnippet(' double e1 = rnorm(0,sigma_1);\n",
    "                             double e2 = rnorm(0,sigma_2);\n",
    "                             double e3 = rnorm(0,sigma_3);\n",
    "                             L = (sqrt(b * A * exp(-cel * L - cea * A)) + e1)*(sqrt(b * A * exp(-cel * L - cea * A)) + e1);\n",
    "                             P = (sqrt(L * (1 - ul)) + e2)*(sqrt(L * (1 - ul)) + e2);\n",
    "                             A = (sqrt(P * exp(-cpa * A) + A * (1 - ua)) + e3)*(sqrt(P * exp(-cpa * A) + A * (1 - ua)) + e3);'),\n",
    "         delta.t=2);"
   ]
  },
  {
   "cell_type": "markdown",
   "metadata": {},
   "source": [
    "We assume the measurement error is negligable, and therefore make no attempt to model it. As a result, our `rmeasure` function simply assigns the value of the $L$, $P$, and $A$ states to the respective observation values."
   ]
  },
  {
   "cell_type": "code",
   "execution_count": null,
   "metadata": {
    "collapsed": false
   },
   "outputs": [],
   "source": [
    "rmeas <- Csnippet(\"\n",
    "                    L_obs = L;\n",
    "                    P_obs = P;\n",
    "                    A_obs = A;\");"
   ]
  },
  {
   "cell_type": "markdown",
   "metadata": {},
   "source": [
    "Along the same lines, `dmeasure` can be defined as a pmf, which is 1 when the observations match the state values, and 0 otherwise"
   ]
  },
  {
   "cell_type": "code",
   "execution_count": null,
   "metadata": {
    "collapsed": false
   },
   "outputs": [],
   "source": [
    "dmeas <- Csnippet(\" double eps = 0.000001;\n",
    "                    if((abs(L_obs - L) > eps) ||\n",
    "                    (abs(P_obs - P) > eps) ||\n",
    "                    (abs(A_obs - A) > eps)) {\n",
    "                    lik = 0;\n",
    "                    } else {\n",
    "                    lik = 1;\n",
    "                    }\");"
   ]
  },
  {
   "cell_type": "markdown",
   "metadata": {},
   "source": [
    "We are in the unusual position of being able to define a `dprocess` function."
   ]
  },
  {
   "cell_type": "code",
   "execution_count": null,
   "metadata": {
    "collapsed": false
   },
   "outputs": [],
   "source": [
    "dproc <- onestep.dens(dens.fun=function(x1,x2,t1,t2,params,...){\n",
    "    stopifnot(t2==t1+2L)\n",
    "    with(as.list(params),{\n",
    "      mu_l <- sqrt(b * x1[\"A\"] * exp(-cel*x1[\"L\"] - cea*x1[\"A\"]))\n",
    "      mu_p <- sqrt(x1[\"L\"] * (1 - ul))\n",
    "      mu_a <- sqrt(x1[\"P\"] * exp(-cpa * x1[\"A\"]) + x1[\"A\"] * (1 - ua))\n",
    "      \n",
    "      likl <- dnorm(sqrt(x2[\"L\"]), mean = mu_l, sd = sigma_1,log=TRUE)\n",
    "      likp <- dnorm(sqrt(x2[\"P\"]), mean = mu_p, sd = sigma_2,log=TRUE)\n",
    "      lika <- dnorm(sqrt(x2[\"A\"]), mean = mu_a, sd = sigma_3,log=TRUE)\n",
    "      if(ua < 0){lika = -Inf}\n",
    "      likl + likp + lika\n",
    "    })});"
   ]
  },
  {
   "cell_type": "markdown",
   "metadata": {},
   "source": [
    "Update the model"
   ]
  },
  {
   "cell_type": "code",
   "execution_count": null,
   "metadata": {
    "collapsed": false
   },
   "outputs": [],
   "source": [
    "LPA_model <- pomp(LPA_model,\n",
    "                  initializer=init,\n",
    "                  rprocess=rproc,\n",
    "                  rmeasure=rmeas,\n",
    "                  dmeasure=dmeas,\n",
    "                  dprocess=dproc,\n",
    "                  statenames = c(\"L\", \"P\", \"A\"),\n",
    "                  paramnames = c(\"b\", \"cea\", \"cel\", \"cpa\", \"ua\", \"ul\", \"sigma_1\", \"sigma_2\", \"sigma_3\"))"
   ]
  },
  {
   "cell_type": "code",
   "execution_count": null,
   "metadata": {
    "collapsed": false
   },
   "outputs": [],
   "source": [
    "dat %>%\n",
    "  melt(id=c(\"weeks\",\"rep\")) %>%\n",
    "  acast(variable~rep~weeks) -> datarray\n",
    "\n",
    "statearray <- datarray\n",
    "rownames(statearray) <- c(\"L\",\"P\",\"A\")\n",
    "\n",
    "# Import and organize the parameters for the model\n",
    "paramarray <- as.matrix(read.csv('./data/params.csv'))\n",
    "row.names(paramarray) <- c(\"b\", \"cea\", \"cel\", \"cpa\", \"ua\", \"ul\", \"sigma_1\", \"sigma_2\", \"sigma_3\")\n",
    "colnames(paramarray) <- 1:24"
   ]
  },
  {
   "cell_type": "code",
   "execution_count": null,
   "metadata": {
    "collapsed": true
   },
   "outputs": [],
   "source": [
    "params1 <- c(b = 10.45,\n",
    "                   cea = 0.01310,\n",
    "                   cel = 0.01731,\n",
    "                   cpa = 0.004619,\n",
    "                   ua = 0.007629,\n",
    "                   ul = 0.2000,\n",
    "                   sigma_1 = 1.621,\n",
    "                   sigma_2 = 0.7375,\n",
    "                   sigma_3 = 0.01212)"
   ]
  },
  {
   "cell_type": "code",
   "execution_count": null,
   "metadata": {
    "collapsed": true
   },
   "outputs": [],
   "source": [
    "f2 <- function(par) {\n",
    "  p <- paramarray\n",
    "  p[c('b', 'cea','cel','ul','sigma_1','sigma_2','sigma_3'),] <-\n",
    "      c( par['b'],\n",
    "         par['cea'],\n",
    "         par['cel'],\n",
    "         par['ul'],\n",
    "         par['sigma_1'],\n",
    "         par['sigma_2'],\n",
    "         par['sigma_3'])\n",
    "  p['ua',c(4, 11, 24)] <- par['ua']\n",
    "  p['cpa',c(4, 11, 24)] <- par['cpa']\n",
    "  sum(dprocess(LPA_model,x=statearray,params=p,times=time(model),log=TRUE))\n",
    "}"
   ]
  },
  {
   "cell_type": "code",
   "execution_count": null,
   "metadata": {
    "collapsed": false
   },
   "outputs": [],
   "source": [
    "optim(fn = f2, \n",
    "      control = c(fnscale=-1, maxit=10000),\n",
    "      par = params1[c('b', 'cea','cel', 'cpa','ua','ul','sigma_1','sigma_2','sigma_3')]) -> fit2"
   ]
  },
  {
   "cell_type": "code",
   "execution_count": null,
   "metadata": {
    "collapsed": false
   },
   "outputs": [],
   "source": [
    "plot(A~time, data=simulate(LPA_model, params = params1,as.data.frame=T),type = 'b')"
   ]
  },
  {
   "cell_type": "markdown",
   "metadata": {},
   "source": [
    "# New Stuff"
   ]
  },
  {
   "cell_type": "code",
   "execution_count": 1,
   "metadata": {
    "collapsed": true
   },
   "outputs": [],
   "source": [
    "library(ggplot2)\n",
    "library(plyr)\n",
    "library(reshape2)\n",
    "library(pomp)\n",
    "library(magrittr)\n",
    "library(reshape2)\n",
    "library(foreach)\n",
    "stopifnot(packageVersion(\"pomp\")>=\"1.4.9\")"
   ]
  },
  {
   "cell_type": "code",
   "execution_count": 2,
   "metadata": {
    "collapsed": false
   },
   "outputs": [],
   "source": [
    "read.csv(\"./data/data.csv\") %>%subset(weeks <= 40, select=c(weeks,rep,L_obs,P_obs,A_obs)) -> dat\n",
    "dat$E_obs <- 0\n",
    "dat %>%\n",
    "  melt(id=c(\"weeks\",\"rep\")) %>%\n",
    "  acast(variable~rep~weeks) -> datarray;"
   ]
  },
  {
   "cell_type": "code",
   "execution_count": 3,
   "metadata": {
    "collapsed": true
   },
   "outputs": [],
   "source": [
    "stages.E <- 7\n",
    "stages.L <- 7\n",
    "stages.P <- 7\n",
    "stages.A <- 1"
   ]
  },
  {
   "cell_type": "code",
   "execution_count": 4,
   "metadata": {
    "collapsed": true
   },
   "outputs": [],
   "source": [
    "glob_snippet <- Csnippet(sprintf(\"\n",
    "#include <math.h>\n",
    "#define ESTAGES %d\n",
    "#define LSTAGES %d\n",
    "#define PSTAGES %d\n",
    "#define ASTAGES %d\n",
    "#define L_0 250\n",
    "#define P_0 5\n",
    "#define A_0 100\n",
    "\", stages.E, stages.L, stages.P, stages.A))"
   ]
  },
  {
   "cell_type": "code",
   "execution_count": 5,
   "metadata": {
    "collapsed": true
   },
   "outputs": [],
   "source": [
    "init_snippet <- Csnippet(\"\n",
    "double *E = &E1;\n",
    "double *L = &L1;\n",
    "double *P = &P1;\n",
    "\n",
    "double gamma_E = (ESTAGES / tau_E) * exp((-cel * L_0 - cea * A_0) / ESTAGES);\n",
    "double gamma_L = (LSTAGES / tau_L) * (1 - mu_L);\n",
    "double gamma_P = (PSTAGES / tau_P) * exp((-cpa * A_0) / ESTAGES);\n",
    "\n",
    "double mu_e = (ESTAGES / tau_E) * (1 - exp((-cel * L_0 - cea * A_0) / ESTAGES));\n",
    "double mu_l = (LSTAGES / tau_L) * mu_L;\n",
    "double mu_p = (PSTAGES / tau_P) * (1 - exp((-cpa * A_0) / ESTAGES));\n",
    "\n",
    "double L_rate[LSTAGES] = {0};\n",
    "double P_rate[PSTAGES] = {0};\n",
    "\n",
    "int k;\n",
    "for (k = 0; k < LSTAGES; k++) L_rate[k] = pow(gamma_L/(gamma_L + mu_l), k);\n",
    "for (k = 0; k < PSTAGES; k++) P_rate[k] = pow(gamma_P/(gamma_P + mu_p), k);\n",
    "\n",
    "for (k = 0; k < ESTAGES; k++) E[k] = 0;\n",
    "reulermultinom(LSTAGES, L_0, &L_rate[0], 1, &L[0]);\n",
    "reulermultinom(PSTAGES, P_0, &P_rate[0], 1, &P[0]);\n",
    "A = 100;\")"
   ]
  },
  {
   "cell_type": "code",
   "execution_count": 6,
   "metadata": {
    "collapsed": true
   },
   "outputs": [],
   "source": [
    "rproc_snippet <- \n",
    "Csnippet(\"\n",
    "double *E = &E1;\n",
    "double *L = &L1;\n",
    "double *P = &P1;\n",
    "\n",
    "int k;\n",
    "double E_tot = 0;\n",
    "double L_tot = 0;\n",
    "double P_tot = 0;\n",
    "for (k = 0; k < ESTAGES; k++) E_tot += E[k];\n",
    "for (k = 0; k < LSTAGES; k++) L_tot += L[k];\n",
    "for (k = 0; k < PSTAGES; k++) P_tot += P[k];\n",
    "\n",
    "double gamma_E = (ESTAGES / tau_E) * exp((-cel * L_tot - cea * A) / ESTAGES);\n",
    "double gamma_L = (LSTAGES / tau_L) * (1 - mu_L);\n",
    "double gamma_P = (PSTAGES / tau_P) * exp((-cpa * A) / ESTAGES);\n",
    "\n",
    "double mu_e = (ESTAGES / tau_E) * (1 - exp((-cel * L_tot - cea * A) / ESTAGES));\n",
    "double mu_l = (LSTAGES / tau_L) * mu_L;\n",
    "double mu_p = (PSTAGES / tau_P) * (1 - exp((-cpa * A) / ESTAGES));\n",
    "\n",
    "double rate[2], etrans[28], ltrans[28], ptrans[28], adeath;\n",
    "\n",
    "// Calculate who goes where\n",
    "for (k = 0; k < ESTAGES; k++) {\n",
    "rate[0] = gamma_E;\n",
    "rate[1] = mu_e;\n",
    "reulermultinom(2,E[k],&rate[0],1,&etrans[2*k]);\n",
    "}\n",
    "\n",
    "for (k = 0; k < LSTAGES; k++) {\n",
    "rate[0] = gamma_L;\n",
    "rate[1] = mu_l;\n",
    "reulermultinom(2,L[k],&rate[0],1,&ltrans[2*k]);\n",
    "}\n",
    "\n",
    "for (k = 0; k < PSTAGES; k++) {\n",
    "rate[0] = gamma_P;\n",
    "rate[1] = mu_p;\n",
    "reulermultinom(2,P[k],&rate[0],1,&ptrans[2*k]);\n",
    "}\n",
    "\n",
    "reulermultinom(1,A,&mu_A,1,&adeath);\n",
    "\n",
    "// Bookkeeping\n",
    "for (k = 0; k < ESTAGES; k++) {\n",
    "E[k] -= (etrans[2*k]+etrans[2*k+1]);\n",
    "E[k+1] += etrans[2*k]; // E[ESTAGES] == L[0]!!\n",
    "}\n",
    "\n",
    "E[0] += rpois(b*A);\n",
    "\n",
    "for (k = 0; k < LSTAGES; k++) {\n",
    "L[k] -= (ltrans[2*k]+ltrans[2*k+1]);\n",
    "L[k+1] += ltrans[2*k]; // L[LSTAGES] == P[0]!!\n",
    "}\n",
    "\n",
    "for (k = 0; k < PSTAGES; k++) {\n",
    "P[k] -= (ptrans[2*k]+ptrans[2*k+1]);\n",
    "P[k+1] += ptrans[2*k]; // P[PSTAGES] == A[0]!!\n",
    "}\n",
    "A -= adeath;\n",
    "\")"
   ]
  },
  {
   "cell_type": "code",
   "execution_count": 7,
   "metadata": {
    "collapsed": false
   },
   "outputs": [],
   "source": [
    "dmeas_snippet <-Csnippet(\n",
    "\"\n",
    "const double *E = &E1;\n",
    "const double *L = &L1;\n",
    "const double *P = &P1;\n",
    "\n",
    "int k;\n",
    "double E_tot = 0;\n",
    "double L_tot = 0;\n",
    "double P_tot = 0;\n",
    "for (k = 0; k < ESTAGES; k++) E_tot += E[k];\n",
    "for (k = 0; k < LSTAGES; k++) L_tot += L[k];\n",
    "for (k = 0; k < PSTAGES; k++) P_tot += P[k];\n",
    "\n",
    "/*\n",
    "double eps = 0.000001;\n",
    "if((abs(L_obs - L_tot) > eps) ||\n",
    "   (abs(P_obs - P_tot) > eps) ||\n",
    "   (abs(A_obs - A) > eps)) {\n",
    "  lik = 0;\n",
    "} else {\n",
    "  lik = 1;\n",
    "}*/\n",
    "\n",
    "lik =   log(pnorm(L_obs + 0.5, L_tot, meas_sd, 1, 0) - pnorm(L_obs - 0.5, L_tot, meas_sd, 1, 0)) +\n",
    "        log(pnorm(P_obs + 0.5, P_tot, meas_sd, 1, 0) - pnorm(P_obs - 0.5, P_tot, meas_sd, 1, 0)) +\n",
    "        log(pnorm(A_obs + 0.5, A,     meas_sd, 1, 0) - pnorm(A_obs - 0.5, A,     meas_sd, 1, 0));\n",
    "\n",
    "if(isnan(lik))\n",
    "{\n",
    "printf(\\\"\\\\n\\\\nL_tot %f\\\", L_tot);\n",
    "printf(\\\"\\\\nP_tot %f\\\", P_tot);\n",
    "printf(\\\"\\\\nA_tot %f\\\", A);\n",
    "printf(\\\"\\\\nsd    %f\\\", meas_sd);\n",
    "printf(\\\"\\\\nb     %f\\\", b);\n",
    "printf(\\\"\\\\ncea   %f\\\", cea);\n",
    "printf(\\\"\\\\ncpa   %f\\\", cpa);\n",
    "printf(\\\"\\\\nmu_A  %f\\\", mu_A);\n",
    "printf(\\\"\\\\nmu_L  %f\\\", mu_L);\n",
    "printf(\\\"\\\\ntau_E %f\\\", tau_E);\n",
    "printf(\\\"\\\\ntau_L %f\\\", tau_L);\n",
    "printf(\\\"\\\\ntau_P %f\\\", tau_P);\n",
    "}\n",
    "\n",
    "\n",
    "lik = (give_log) ? lik : exp(lik);\n",
    "\n",
    "\")"
   ]
  },
  {
   "cell_type": "code",
   "execution_count": 8,
   "metadata": {
    "collapsed": false
   },
   "outputs": [],
   "source": [
    "rmeas_snippet <- \n",
    "Csnippet(\"\n",
    "const double *E = &E1;\n",
    "const double *L = &L1;\n",
    "const double *P = &P1;\n",
    "\n",
    "int k;\n",
    "double E_tot = 0;\n",
    "double L_tot = 0;\n",
    "double P_tot = 0;\n",
    "for (k = 0; k < ESTAGES; k++) E_tot += E[k];\n",
    "for (k = 0; k < LSTAGES; k++) L_tot += L[k];\n",
    "for (k = 0; k < PSTAGES; k++) P_tot += P[k];\n",
    "\n",
    "/*\n",
    "E_obs = E_tot;\n",
    "L_obs = L_tot;\n",
    "P_obs = P_tot;\n",
    "A_obs = A;\n",
    "*/\n",
    "\n",
    "E_obs = E_tot;\n",
    "L_obs = nearbyint(rnorm(L_tot, meas_sd));\n",
    "P_obs = nearbyint(rnorm(P_tot, meas_sd));\n",
    "A_obs = nearbyint(rnorm(A, meas_sd));\n",
    "\n",
    "\")"
   ]
  },
  {
   "cell_type": "code",
   "execution_count": 9,
   "metadata": {
    "collapsed": true
   },
   "outputs": [],
   "source": [
    "from_est <- Csnippet(\"\n",
    "Tb = exp(b);\n",
    "Tcea = expit(cea);\n",
    "Tcel = expit(cel);\n",
    "Tcpa = expit(cpa);\n",
    "Tmu_A = expit(mu_A);\n",
    "Tmu_L = expit(mu_L);\n",
    "Ttau_E = exp(tau_E);\n",
    "Ttau_L = exp(tau_L);\n",
    "Ttau_P = exp(tau_P);\n",
    "Tmeas_sd = exp(meas_sd);\n",
    "\")\n",
    "\n",
    "to_est <- Csnippet(\"\n",
    "Tb = log(b);\n",
    "Tcea = logit(cea);\n",
    "Tcel = logit(cel);\n",
    "Tcpa = logit(cpa);\n",
    "Tmu_A = logit(mu_A);\n",
    "Tmu_L = logit(mu_L);\n",
    "Ttau_E = log(tau_E);\n",
    "Ttau_L = log(tau_L);\n",
    "Ttau_P = log(tau_P);\n",
    "Tmeas_sd = log(meas_sd);\n",
    "\")"
   ]
  },
  {
   "cell_type": "code",
   "execution_count": 10,
   "metadata": {
    "collapsed": false
   },
   "outputs": [],
   "source": [
    "pomp(\n",
    "  data = subset(dat, rep==4),\n",
    "  times=\"weeks\", t0=0,\n",
    "  obsnames = c(\"E_obs\", \"L_obs\", \"P_obs\", \"A_obs\"),\n",
    "  statenames = c(sprintf(\"E%d\",1:stages.E),sprintf(\"L%d\",1:stages.L),sprintf(\"P%d\",1:stages.P),\"A\"),\n",
    "  paramnames = c(\"b\", \"cea\", \"cel\", \"cpa\", \"mu_A\", \"mu_L\", \"tau_E\", \"tau_L\", \"tau_P\", \"meas_sd\"),\n",
    "  globals = glob_snippet,\n",
    "  initializer = init_snippet,\n",
    "  rprocess = discrete.time.sim(\n",
    "    step.fun = rproc_snippet,\n",
    "    delta.t = 1/7),\n",
    "  dmeasure = dmeas_snippet,\n",
    "  rmeasure = rmeas_snippet,\n",
    "  toEstimationScale = to_est,\n",
    "  fromEstimationScale = from_est,\n",
    "  params = c(\"b\"=1.18702207924403,\n",
    "             \"cea\"=0.0132088702404268,\n",
    "             \"cel\"=0.0172244842038504,\n",
    "             \"cpa\"=0.00466955565765198,\n",
    "             \"mu_A\"=1.89532307252467e-05,\n",
    "             \"mu_L\"=0.0158937470126093,\n",
    "             \"tau_E\"=15.7219226675806,\n",
    "             \"tau_L\"=5.18906255435284,\n",
    "             \"tau_P\"=18.0248791283609,\n",
    "             \"meas_sd\" = 10)) -> model"
   ]
  },
  {
   "cell_type": "code",
   "execution_count": 11,
   "metadata": {
    "collapsed": true
   },
   "outputs": [],
   "source": [
    "defaultparams <- model@params"
   ]
  },
  {
   "cell_type": "code",
   "execution_count": 12,
   "metadata": {
    "collapsed": true
   },
   "outputs": [],
   "source": [
    "#ssr <- function(par) {\n",
    "#  total <- 0\n",
    "#  if(min(par) < 0){\n",
    "#    total <- -Inf\n",
    "#  }\n",
    "#  \n",
    "#  if(max(par[c('cea', 'cel', 'cpa')]) > 1){\n",
    "#    total <- -Inf\n",
    "#  }\n",
    "#\n",
    "#  sim <- simulate(model, nsim = 200, params = par)\n",
    "#\n",
    "#  for(i in 1:200){\n",
    "#    for(j in c(4)){ #, 11, 24)){\n",
    "#      total = total + sum(rowSums((datarray[c(\"L_obs\", \"P_obs\", \"A_obs\"),j,] - obs(sim[[i]])[c('L_obs','P_obs','A_obs'),])^2)^0.5)\n",
    "#    }\n",
    "#  }\n",
    "#  total\n",
    "#}"
   ]
  },
  {
   "cell_type": "code",
   "execution_count": 13,
   "metadata": {
    "collapsed": true
   },
   "outputs": [],
   "source": [
    "#fit1 <- optim(fn=ssr, par=defaultparams, control=c(maxit=100000))"
   ]
  },
  {
   "cell_type": "code",
   "execution_count": 14,
   "metadata": {
    "collapsed": true
   },
   "outputs": [],
   "source": [
    "#model <- pomp(model, params=fit1$par)"
   ]
  },
  {
   "cell_type": "code",
   "execution_count": 15,
   "metadata": {
    "collapsed": true
   },
   "outputs": [],
   "source": [
    "multiplot <- function(..., plotlist=NULL, cols) {\n",
    "    require(grid)\n",
    "\n",
    "    # Make a list from the ... arguments and plotlist\n",
    "    plots <- c(list(...), plotlist)\n",
    "\n",
    "    numPlots = length(plots)\n",
    "\n",
    "    # Make the panel\n",
    "    plotCols = cols                          # Number of columns of plots\n",
    "    plotRows = ceiling(numPlots/plotCols) # Number of rows needed, calculated from # of cols\n",
    "\n",
    "    # Set up the page\n",
    "    grid.newpage()\n",
    "    pushViewport(viewport(layout = grid.layout(plotRows, plotCols)))\n",
    "    vplayout <- function(x, y)\n",
    "        viewport(layout.pos.row = x, layout.pos.col = y)\n",
    "\n",
    "    # Make each plot, in the correct location\n",
    "    for (i in 1:numPlots) {\n",
    "        curRow = ceiling(i/plotCols)\n",
    "        curCol = (i-1) %% plotCols + 1\n",
    "        print(plots[[i]], vp = vplayout(curRow, curCol ))\n",
    "    }\n",
    "\n",
    "}"
   ]
  },
  {
   "cell_type": "code",
   "execution_count": 16,
   "metadata": {
    "collapsed": false
   },
   "outputs": [
    {
     "name": "stderr",
     "output_type": "stream",
     "text": [
      "Loading required package: grid\n"
     ]
    },
    {
     "data": {
      "image/png": "[encoded data removed]",
      "text/plain": [
       "plot without title"
      ]
     },
     "metadata": {
      "image/svg+xml": {
       "isolated": true
      }
     },
     "output_type": "display_data"
    }
   ],
   "source": [
    "sims <- simulate(model, nsim=20,as.data.frame=TRUE,include.data=TRUE)\n",
    "pl <- ggplot(sims,mapping=aes(x=time,y=L_obs,group=sim,color=sim==\"data\"))+geom_line()+guides(color=FALSE)\n",
    "pp <- ggplot(sims,mapping=aes(x=time,y=P_obs,group=sim,color=sim==\"data\"))+geom_line()+guides(color=FALSE)\n",
    "pa <- ggplot(sims,mapping=aes(x=time,y=A_obs,group=sim,color=sim==\"data\"))+geom_line()+guides(color=FALSE)\n",
    "multiplot(pl, pp, pa, cols=1);"
   ]
  },
  {
   "cell_type": "code",
   "execution_count": 17,
   "metadata": {
    "collapsed": false
   },
   "outputs": [
    {
     "name": "stderr",
     "output_type": "stream",
     "text": [
      "Warning message:\n",
      ": in ‘pfilter’: 1 filtering failure occurred."
     ]
    },
    {
     "data": {
      "text/html": [
       "-316.490625397325"
      ],
      "text/latex": [
       "-316.490625397325"
      ],
      "text/markdown": [
       "-316.490625397325"
      ],
      "text/plain": [
       "[1] -316.4906"
      ]
     },
     "metadata": {},
     "output_type": "display_data"
    }
   ],
   "source": [
    "pf <- pfilter(model, params = defaultparams, Np=1000)\n",
    "logLik(pf)"
   ]
  },
  {
   "cell_type": "code",
   "execution_count": 18,
   "metadata": {
    "collapsed": false
   },
   "outputs": [
    {
     "name": "stderr",
     "output_type": "stream",
     "text": [
      "Loading required package: iterators\n",
      "Loading required package: parallel\n"
     ]
    }
   ],
   "source": [
    "library(foreach);\n",
    "library(doParallel);\n",
    "registerDoParallel();"
   ]
  },
  {
   "cell_type": "code",
   "execution_count": 19,
   "metadata": {
    "collapsed": false
   },
   "outputs": [
    {
     "data": {
      "text/html": [
       "<dl class=dl-horizontal>\n",
       "\t<dt>1</dt>\n",
       "\t\t<dd>-314.56382031557</dd>\n",
       "\t<dt>se</dt>\n",
       "\t\t<dd>0.886026024057335</dd>\n",
       "</dl>\n"
      ],
      "text/latex": [
       "\\begin{description*}\n",
       "\\item[1] -314.56382031557\n",
       "\\item[se] 0.886026024057335\n",
       "\\end{description*}\n"
      ],
      "text/markdown": [
       "1\n",
       ":   -314.56382031557se\n",
       ":   0.886026024057335\n",
       "\n"
      ],
      "text/plain": [
       "                     se \n",
       "-314.563820    0.886026 "
      ]
     },
     "metadata": {},
     "output_type": "display_data"
    }
   ],
   "source": [
    "stew(file=\"./output/pf.rda\",{\n",
    "  t_pf <- system.time(\n",
    "    pf <- foreach(i=1:10,.packages='pomp',\n",
    "                  .options.multicore=list(set.seed=TRUE),\n",
    "                  .export=c(\"model\")\n",
    "    ) %dopar% {\n",
    "      pfilter(model,params=defaultparams,Np=10000)\n",
    "    }\n",
    "  )\n",
    "  n_pf <- getDoParWorkers()\n",
    "},seed=625904618,kind=\"L'Ecuyer\")\n",
    "\n",
    "(L_pf <- logmeanexp(sapply(pf,logLik),se=TRUE))"
   ]
  },
  {
   "cell_type": "code",
   "execution_count": 20,
   "metadata": {
    "collapsed": true
   },
   "outputs": [],
   "source": [
    "results <- as.data.frame(as.list(c(coef(pf[[1]]),loglik=L_pf[1],loglik=L_pf[2])))\n",
    "#write.csv(results,file=\"./output/model_params.csv\",row.names=FALSE)"
   ]
  },
  {
   "cell_type": "code",
   "execution_count": 21,
   "metadata": {
    "collapsed": false
   },
   "outputs": [],
   "source": [
    "stew(file=\"./output/box_search_local.rda\",{\n",
    "  t_local_mif <- system.time({\n",
    "    mifs_local <- foreach(i=1:20,\n",
    "                          .packages='pomp',\n",
    "                          .combine=c, \n",
    "                          .options.multicore=list(set.seed=TRUE),\n",
    "                          .export=c(\"model\")\n",
    "    ) %dopar%  \n",
    "    {\n",
    "      mif2(\n",
    "        model,\n",
    "        start=defaultparams,\n",
    "        Np=2000,\n",
    "        Nmif=50,\n",
    "        cooling.type=\"geometric\",\n",
    "        cooling.fraction.50=0.5,\n",
    "        transform=TRUE,\n",
    "        rw.sd=rw.sd(b=0.02, cea=0.02, cel=0.02, cpa=0.02, mu_A=0.02, mu_L=0.02,\n",
    "                    tau_E=0.02, tau_L=0.02, tau_P=0.02, meas_sd = 0.02)\n",
    "      )\n",
    "    }\n",
    "  })\n",
    "},seed=482947940,kind=\"L'Ecuyer\")"
   ]
  },
  {
   "cell_type": "code",
   "execution_count": 22,
   "metadata": {
    "collapsed": false
   },
   "outputs": [
    {
     "data": {
      "image/png": "[encoded data removed]",
      "text/plain": [
       "plot without title"
      ]
     },
     "metadata": {
      "image/svg+xml": {
       "isolated": true
      }
     },
     "output_type": "display_data"
    }
   ],
   "source": [
    "ggplot(data=melt(conv.rec(mifs_local)),\n",
    "       aes(x=iteration,y=value,group=L1,color=factor(L1)))+\n",
    "  geom_line()+\n",
    "  guides(color=FALSE)+\n",
    "  facet_wrap(~variable,scales=\"free_y\")+\n",
    "  theme_bw()"
   ]
  },
  {
   "cell_type": "code",
   "execution_count": 23,
   "metadata": {
    "collapsed": false
   },
   "outputs": [],
   "source": [
    "stew(file=\"./output/lik_local.rda\",{\n",
    "  t_local_eval <- system.time({\n",
    "    results_local <- foreach(mf=mifs_local,\n",
    "                             .packages='pomp',\n",
    "                             .combine=rbind,\n",
    "                             .options.multicore=list(set.seed=TRUE)\n",
    "    ) %dopar% \n",
    "    {\n",
    "      evals <- replicate(10, logLik(pfilter(mf,Np=20000)))\n",
    "      ll <- logmeanexp(evals,se=TRUE)\n",
    "      c(coef(mf),loglik=ll[1],loglik=ll[2])\n",
    "    }\n",
    "  })\n",
    "},seed=900242057,kind=\"L'Ecuyer\")\n",
    "results_local <- as.data.frame(results_local)"
   ]
  },
  {
   "cell_type": "code",
   "execution_count": 24,
   "metadata": {
    "collapsed": false
   },
   "outputs": [
    {
     "data": {
      "image/png": "[encoded data removed]",
      "text/plain": [
       "plot without title"
      ]
     },
     "metadata": {
      "image/svg+xml": {
       "isolated": true
      }
     },
     "output_type": "display_data"
    }
   ],
   "source": [
    "pairs(~loglik+b+cea+cel+cpa+mu_A+mu_L+tau_E+tau_L+tau_P+meas_sd,data=results_local)"
   ]
  },
  {
   "cell_type": "code",
   "execution_count": 25,
   "metadata": {
    "collapsed": true
   },
   "outputs": [],
   "source": [
    "results <- rbind(results,results_local[names(results)])\n",
    "#write.csv(results,file=\"./output/model_params.csv\",row.names=FALSE)"
   ]
  },
  {
   "cell_type": "code",
   "execution_count": 32,
   "metadata": {
    "collapsed": false
   },
   "outputs": [
    {
     "data": {
      "image/png": "[encoded data removed]",
      "text/plain": [
       "plot without title"
      ]
     },
     "metadata": {
      "image/svg+xml": {
       "isolated": true
      }
     },
     "output_type": "display_data"
    }
   ],
   "source": [
    "optim_params <- unlist(results_local[which.max(results_local$loglik),])\n",
    "sims <- simulate(model, params = optim_params, nsim=20,as.data.frame=TRUE,include.data=TRUE)\n",
    "pl <- ggplot(sims,mapping=aes(x=time,y=L_obs,group=sim,color=sim==\"data\"))+geom_line()+guides(color=FALSE)\n",
    "pp <- ggplot(sims,mapping=aes(x=time,y=P_obs,group=sim,color=sim==\"data\"))+geom_line()+guides(color=FALSE)\n",
    "pa <- ggplot(sims,mapping=aes(x=time,y=A_obs,group=sim,color=sim==\"data\"))+geom_line()+guides(color=FALSE)\n",
    "multiplot(pl, pp, pa, cols=1);"
   ]
  },
  {
   "cell_type": "code",
   "execution_count": null,
   "metadata": {
    "collapsed": true
   },
   "outputs": [],
   "source": []
  }
 ],
 "metadata": {
  "kernelspec": {
   "display_name": "R",
   "language": "R",
   "name": "ir"
  },
  "language_info": {
   "codemirror_mode": "r",
   "file_extension": ".r",
   "mimetype": "text/x-r-source",
   "name": "R",
   "pygments_lexer": "r",
   "version": "3.3.1"
  }
 },
 "nbformat": 4,
 "nbformat_minor": 0
}
