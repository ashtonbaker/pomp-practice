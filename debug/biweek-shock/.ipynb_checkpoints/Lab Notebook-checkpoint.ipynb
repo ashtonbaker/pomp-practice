{
 "cells": [
  {
   "cell_type": "markdown",
   "metadata": {},
   "source": [
    "## Load Packages"
   ]
  },
  {
   "cell_type": "code",
   "execution_count": 1,
   "metadata": {
    "collapsed": false
   },
   "outputs": [],
   "source": [
    "library(ggplot2)\n",
    "library(plyr)\n",
    "library(reshape2)\n",
    "library(pomp)\n",
    "library(magrittr)\n",
    "library(reshape2)\n",
    "library(foreach)\n",
    "stopifnot(packageVersion(\"pomp\")>=\"1.4.9\")"
   ]
  },
  {
   "cell_type": "markdown",
   "metadata": {},
   "source": [
    "## Base model in **pomp**\n",
    "We begin by importing the data for the experiment. We will initially load only the data for rep 4 into the **pomp** object. Later, we will describe a function that incorporates all of the data to estimate parameters."
   ]
  },
  {
   "cell_type": "code",
   "execution_count": 2,
   "metadata": {
    "collapsed": false
   },
   "outputs": [
    {
     "data": {
      "text/html": [
       "<table>\n",
       "<thead><tr><th></th><th scope=col>weeks</th><th scope=col>rep</th><th scope=col>L_obs</th><th scope=col>P_obs</th><th scope=col>A_obs</th></tr></thead>\n",
       "<tbody>\n",
       "\t<tr><th scope=row>1</th><td>  0</td><td>  4</td><td>250</td><td>  5</td><td>100</td></tr>\n",
       "\t<tr><th scope=row>2</th><td>  2</td><td>  4</td><td> 15</td><td>221</td><td>103</td></tr>\n",
       "\t<tr><th scope=row>3</th><td>  4</td><td>  4</td><td>184</td><td> 13</td><td>237</td></tr>\n",
       "\t<tr><th scope=row>4</th><td>  6</td><td>  4</td><td>  0</td><td>143</td><td>241</td></tr>\n",
       "\t<tr><th scope=row>5</th><td>  8</td><td>  4</td><td>104</td><td>  2</td><td>297</td></tr>\n",
       "\t<tr><th scope=row>6</th><td> 10</td><td>  4</td><td>  4</td><td> 54</td><td>300</td></tr>\n",
       "</tbody>\n",
       "</table>\n"
      ],
      "text/latex": [
       "\\begin{tabular}{r|lllll}\n",
       "  & weeks & rep & L\\_obs & P\\_obs & A\\_obs\\\\\n",
       "\\hline\n",
       "\t1 &   0 &   4 & 250 &   5 & 100\\\\\n",
       "\t2 &   2 &   4 &  15 & 221 & 103\\\\\n",
       "\t3 &   4 &   4 & 184 &  13 & 237\\\\\n",
       "\t4 &   6 &   4 &   0 & 143 & 241\\\\\n",
       "\t5 &   8 &   4 & 104 &   2 & 297\\\\\n",
       "\t6 &  10 &   4 &   4 &  54 & 300\\\\\n",
       "\\end{tabular}\n"
      ],
      "text/plain": [
       "  weeks rep L_obs P_obs A_obs\n",
       "1     0   4   250     5   100\n",
       "2     2   4    15   221   103\n",
       "3     4   4   184    13   237\n",
       "4     6   4     0   143   241\n",
       "5     8   4   104     2   297\n",
       "6    10   4     4    54   300"
      ]
     },
     "metadata": {},
     "output_type": "display_data"
    }
   ],
   "source": [
    "read.csv(\"./data/data.csv\") %>%subset(weeks <= 40, select=c(weeks,rep,L_obs,P_obs,A_obs)) -> dat\n",
    "head(dat)"
   ]
  },
  {
   "cell_type": "code",
   "execution_count": 3,
   "metadata": {
    "collapsed": false
   },
   "outputs": [],
   "source": [
    "LPA_model <- pomp(data = subset(dat, rep==4),\n",
    "              times = \"weeks\", t0 = 0);"
   ]
  },
  {
   "cell_type": "markdown",
   "metadata": {},
   "source": [
    "## LPA model\n",
    "Individuals are categorized as either larvae, pupae, or adults. At time $t$, the number of each is given by $L_t$, $P_t$ and $A_t$, respectively. The time unit is 2 weeks, which is the average amount of time spent in the larval stage in this experiment.\n",
    "\n",
    "Eggs are produced at a rate proportional to the number of adults. Eggs are cannibalized by larvae at a rate $c_{el}$, and by adults at a rate $c_{ea}$. So, the probability of an egg surviving 1 time unit in the presence of $L$ larvae is $\\exp(-c_{el}L)$. Likewise, the probability of an egg surving 1 time unit in the presence of $A$ adults is $\\exp(-c_{ea}A)$.\n",
    "\n",
    "Larvae have a mortality rate of $\\mu_l$ over the course of 2 weeks. If they survive, we assume they become pupae. Pupae are cannibalized by adults at a rate of $-c_{pa}$. So the probability that a pupa will survive 1 time unit in the presence of A adults is $\\exp(-c_{pa} A)$. If they survive, we assume they become adults. - Adults have a mortality rate of $\\mu_A$ over the course of 1 time unit.\n",
    "\n",
    "Thus, the full LPA model is\n",
    "\n",
    "$$\\begin{aligned}\n",
    "L_t &= b A_{t-1} \\exp{(-c_{el} L_{t-1} - c_{ea} A_{t-1})} \\\\\n",
    "P_t &= L_{t-1} (1 - \\mu_1) \\\\\n",
    "A_t &= P_{t-1} \\exp{(-c_{pa} A_{t-1})} + A_{t-1}(1 - \\mu_a)\n",
    "\\end{aligned}$$\n",
    "\n",
    "We can use this as the deterministic skeleton of a **pomp** model:"
   ]
  },
  {
   "cell_type": "code",
   "execution_count": 4,
   "metadata": {
    "collapsed": false
   },
   "outputs": [],
   "source": [
    "skel <- Csnippet(' DL = b * A * exp(-cel * L - cea * A);\n",
    "                   DP = L * (1 - ul);\n",
    "                   DA = P * exp(-cpa * A) + A * (1 - ua);');\n",
    "LPA_model <- pomp(LPA_model,\n",
    "    skeleton = map(skel, delta.t=2),\n",
    "    statenames = c('L', 'P', 'A'),\n",
    "    paramnames = c('b', 'cel', 'cea', 'cpa', 'ua', 'ul'));"
   ]
  },
  {
   "cell_type": "markdown",
   "metadata": {},
   "source": [
    "Each experimental repetition was initialized by placing 250 larvae, 5 pupae, and 100 adults in a jar. So we simply initialize our process with the following `Csnippet`:"
   ]
  },
  {
   "cell_type": "code",
   "execution_count": 5,
   "metadata": {
    "collapsed": false
   },
   "outputs": [],
   "source": [
    "init <- Csnippet(' L = 250;\n",
    "                   P = 5;\n",
    "                   A = 100;');\n",
    "\n",
    "LPA_model <- pomp(LPA_model, initializer = init, statenames = c('L', 'P', 'A'))"
   ]
  },
  {
   "cell_type": "markdown",
   "metadata": {},
   "source": [
    "We can take the maximum likelihood (ML) estimates for the parameters from the paper, and then we have enough to compute trajectories of the deterministic skeleton:"
   ]
  },
  {
   "cell_type": "code",
   "execution_count": 6,
   "metadata": {
    "collapsed": false
   },
   "outputs": [
    {
     "data": {
      "image/png": "[encoded data removed]",
      "text/plain": [
       "plot without title"
      ]
     },
     "metadata": {
      "image/svg+xml": {
       "isolated": true
      }
     },
     "output_type": "display_data"
    },
    {
     "data": {
      "image/png": "[encoded data removed]",
      "text/plain": [
       "plot without title"
      ]
     },
     "metadata": {
      "image/svg+xml": {
       "isolated": true
      }
     },
     "output_type": "display_data"
    },
    {
     "data": {
      "image/png": "[encoded data removed]",
      "text/plain": [
       "plot without title"
      ]
     },
     "metadata": {
      "image/svg+xml": {
       "isolated": true
      }
     },
     "output_type": "display_data"
    }
   ],
   "source": [
    "ml_estimate <- c(b = 10.67, cel = 0.01647, cea = 0.01313, cpa = 0.01313, ua = 0.007629, ul = 0.1955)\n",
    "\n",
    "plot(L~time, data=trajectory(LPA_model, params = ml_estimate, as.data.frame = TRUE), type = 'l')\n",
    "plot(P~time, data=trajectory(LPA_model, params = ml_estimate, as.data.frame = TRUE), type = 'l')\n",
    "plot(A~time, data=trajectory(LPA_model, params = ml_estimate, as.data.frame = TRUE), type = 'l')"
   ]
  },
  {
   "cell_type": "markdown",
   "metadata": {},
   "source": [
    "## Stochastic Demographic LPA Model\n",
    "\n",
    "To incorporate stochasticity to our model, we need to specify a function for $f_{X_n | X_{n - 1}}$. Dennis et al begin with the LPA model specified above, and modify it as follows.\n",
    "\n",
    "* $L_t$ is Poisson distributed with mean $b a_{t-1} \\exp{(-c_{el} l_{t-1} - c_{ea} a_{t-1})}$.\n",
    "* Each larva is given a probability $(1 - \\mu_l)$ of surviving a 2-week period, at which point we assume it becomes a pupa. Therefore, $P_t$ is binomial distributed with $n = l_{t-1}$ and $p = (1 - \\mu_l)$.\n",
    "* Over a 2-week period, we assume that each pupa either survives to become an adult, or dies. Since pupae are cannibalized by adults, the survival probaility is $\\exp(-c_{pa}a_{t-1})$. The survivors are called \"recruits\", and given by $R_t$.\n",
    "* Over a 2-week period, we assume that adult beetles survive with probability $(1 - \\mu_a)$. Thus, the number of survivors $S_t$ is binomially distributed.\n",
    "\n",
    "$$\\begin{aligned}\n",
    "L_t &= \\text{Poisson}(ba_{t-1} \\exp[-c_{el}l_{t-1} - c_{ea}a_{t-1}])\\\\\n",
    "P_t &= \\text{binomial}(l_{t - 1}, (1 - \\mu_l)) \\\\\n",
    "R_t &= \\text{binomial}(p_{t-1}, \\exp[-c_{pa}a_{t-1}]) \\\\\n",
    "S_t &= \\text{binomial}(a_{t-1}, [1 - \\mu_a]) \\\\\n",
    "A_t &= R_t + S_t\n",
    "\\end{aligned}$$\n",
    "\n",
    "We can write a Csnippet to simulate this process as follows:"
   ]
  },
  {
   "cell_type": "code",
   "execution_count": 7,
   "metadata": {
    "collapsed": false
   },
   "outputs": [],
   "source": [
    "rproc <- discrete.time.sim( \n",
    "         step.fun=Csnippet(' L = rpois(b * A * exp(-cel * L - cea * A));\n",
    "                             P = rbinom(L, (1 - mu_L));\n",
    "                             double R = rbinom(P, exp(-cpa * A));\n",
    "                             double S = rbinom(A, (1 - mu_A));\n",
    "                             A = R + S;'),\n",
    "         delta.t=2);"
   ]
  },
  {
   "cell_type": "markdown",
   "metadata": {},
   "source": [
    "We assume the measurement error is negligable, and therefore make no attempt to model it. As a result, our `rmeasure` function simply assigns the value of the $L$, $P$, and $A$ states to the respective observation values."
   ]
  },
  {
   "cell_type": "code",
   "execution_count": 8,
   "metadata": {
    "collapsed": false
   },
   "outputs": [],
   "source": [
    "rmeas <- Csnippet(\"\n",
    "                    L_obs = L;\n",
    "                    P_obs = P;\n",
    "                    A_obs = A;\");"
   ]
  },
  {
   "cell_type": "markdown",
   "metadata": {},
   "source": [
    "## NLAR Modifications"
   ]
  },
  {
   "cell_type": "markdown",
   "metadata": {},
   "source": [
    "$$\\begin{aligned}\n",
    "\\sqrt{L_t} &= \\sqrt{bA_{t-1} \\exp(-c_{el} L_{t-1} - c_{ea} A_{t-1})} + E_{1t}\\\\\n",
    "\\sqrt{P_t} &= \\sqrt{L_{t-1}(1 - \\mu_l)} + E_{2t}\\\\\n",
    "\\sqrt{A_t} &= \\sqrt{P_{t-1} exp(-c_{pa}A_{t-1}) + A_{t-1}(1 - \\mu_a)} + E_{3t}\\\\\n",
    "\\end{aligned}$$"
   ]
  },
  {
   "cell_type": "code",
   "execution_count": null,
   "metadata": {
    "collapsed": false
   },
   "outputs": [],
   "source": [
    "rproc <- discrete.time.sim( \n",
    "         step.fun=Csnippet(' double e1 = rnorm(0,sigma_1);\n",
    "                             double e2 = rnorm(0,sigma_2);\n",
    "                             double e3 = rnorm(0,sigma_3);\n",
    "                             L = (sqrt(b * A * exp(-cel * L - cea * A)) + e1)*(sqrt(b * A * exp(-cel * L - cea * A)) + e1);\n",
    "                             P = (sqrt(L * (1 - ul)) + e2)*(sqrt(L * (1 - ul)) + e2);\n",
    "                             A = (sqrt(P * exp(-cpa * A) + A * (1 - ua)) + e3)*(sqrt(P * exp(-cpa * A) + A * (1 - ua)) + e3);'),\n",
    "         delta.t=2);"
   ]
  },
  {
   "cell_type": "markdown",
   "metadata": {},
   "source": [
    "We assume the measurement error is negligable, and therefore make no attempt to model it. As a result, our `rmeasure` function simply assigns the value of the $L$, $P$, and $A$ states to the respective observation values."
   ]
  },
  {
   "cell_type": "code",
   "execution_count": null,
   "metadata": {
    "collapsed": false
   },
   "outputs": [],
   "source": [
    "rmeas <- Csnippet(\"\n",
    "                    L_obs = L;\n",
    "                    P_obs = P;\n",
    "                    A_obs = A;\");"
   ]
  },
  {
   "cell_type": "markdown",
   "metadata": {},
   "source": [
    "Along the same lines, `dmeasure` can be defined as a pmf, which is 1 when the observations match the state values, and 0 otherwise"
   ]
  },
  {
   "cell_type": "code",
   "execution_count": null,
   "metadata": {
    "collapsed": false
   },
   "outputs": [],
   "source": [
    "dmeas <- Csnippet(\" double eps = 0.000001;\n",
    "                    if((abs(L_obs - L) > eps) ||\n",
    "                    (abs(P_obs - P) > eps) ||\n",
    "                    (abs(A_obs - A) > eps)) {\n",
    "                    lik = 0;\n",
    "                    } else {\n",
    "                    lik = 1;\n",
    "                    }\");"
   ]
  },
  {
   "cell_type": "markdown",
   "metadata": {},
   "source": [
    "We are in the unusual position of being able to define a `dprocess` function."
   ]
  },
  {
   "cell_type": "code",
   "execution_count": null,
   "metadata": {
    "collapsed": false
   },
   "outputs": [],
   "source": [
    "dproc <- onestep.dens(dens.fun=function(x1,x2,t1,t2,params,...){\n",
    "    stopifnot(t2==t1+2L)\n",
    "    with(as.list(params),{\n",
    "      mu_l <- sqrt(b * x1[\"A\"] * exp(-cel*x1[\"L\"] - cea*x1[\"A\"]))\n",
    "      mu_p <- sqrt(x1[\"L\"] * (1 - ul))\n",
    "      mu_a <- sqrt(x1[\"P\"] * exp(-cpa * x1[\"A\"]) + x1[\"A\"] * (1 - ua))\n",
    "      \n",
    "      likl <- dnorm(sqrt(x2[\"L\"]), mean = mu_l, sd = sigma_1,log=TRUE)\n",
    "      likp <- dnorm(sqrt(x2[\"P\"]), mean = mu_p, sd = sigma_2,log=TRUE)\n",
    "      lika <- dnorm(sqrt(x2[\"A\"]), mean = mu_a, sd = sigma_3,log=TRUE)\n",
    "      if(ua < 0){lika = -Inf}\n",
    "      likl + likp + lika\n",
    "    })});"
   ]
  },
  {
   "cell_type": "markdown",
   "metadata": {},
   "source": [
    "Update the model"
   ]
  },
  {
   "cell_type": "code",
   "execution_count": null,
   "metadata": {
    "collapsed": false
   },
   "outputs": [],
   "source": [
    "LPA_model <- pomp(LPA_model,\n",
    "                  initializer=init,\n",
    "                  rprocess=rproc,\n",
    "                  rmeasure=rmeas,\n",
    "                  dmeasure=dmeas,\n",
    "                  dprocess=dproc,\n",
    "                  statenames = c(\"L\", \"P\", \"A\"),\n",
    "                  paramnames = c(\"b\", \"cea\", \"cel\", \"cpa\", \"ua\", \"ul\", \"sigma_1\", \"sigma_2\", \"sigma_3\"))"
   ]
  },
  {
   "cell_type": "code",
   "execution_count": null,
   "metadata": {
    "collapsed": false
   },
   "outputs": [],
   "source": [
    "dat %>%\n",
    "  melt(id=c(\"weeks\",\"rep\")) %>%\n",
    "  acast(variable~rep~weeks) -> datarray\n",
    "\n",
    "statearray <- datarray\n",
    "rownames(statearray) <- c(\"L\",\"P\",\"A\")\n",
    "\n",
    "# Import and organize the parameters for the model\n",
    "paramarray <- as.matrix(read.csv('./data/params.csv'))\n",
    "row.names(paramarray) <- c(\"b\", \"cea\", \"cel\", \"cpa\", \"ua\", \"ul\", \"sigma_1\", \"sigma_2\", \"sigma_3\")\n",
    "colnames(paramarray) <- 1:24"
   ]
  },
  {
   "cell_type": "code",
   "execution_count": null,
   "metadata": {
    "collapsed": true
   },
   "outputs": [],
   "source": [
    "params1 <- c(b = 10.45,\n",
    "                   cea = 0.01310,\n",
    "                   cel = 0.01731,\n",
    "                   cpa = 0.004619,\n",
    "                   ua = 0.007629,\n",
    "                   ul = 0.2000,\n",
    "                   sigma_1 = 1.621,\n",
    "                   sigma_2 = 0.7375,\n",
    "                   sigma_3 = 0.01212)"
   ]
  },
  {
   "cell_type": "code",
   "execution_count": null,
   "metadata": {
    "collapsed": true
   },
   "outputs": [],
   "source": [
    "f2 <- function(par) {\n",
    "  p <- paramarray\n",
    "  p[c('b', 'cea','cel','ul','sigma_1','sigma_2','sigma_3'),] <-\n",
    "      c( par['b'],\n",
    "         par['cea'],\n",
    "         par['cel'],\n",
    "         par['ul'],\n",
    "         par['sigma_1'],\n",
    "         par['sigma_2'],\n",
    "         par['sigma_3'])\n",
    "  p['ua',c(4, 11, 24)] <- par['ua']\n",
    "  p['cpa',c(4, 11, 24)] <- par['cpa']\n",
    "  sum(dprocess(LPA_model,x=statearray,params=p,times=time(model),log=TRUE))\n",
    "}"
   ]
  },
  {
   "cell_type": "code",
   "execution_count": null,
   "metadata": {
    "collapsed": false
   },
   "outputs": [],
   "source": [
    "optim(fn = f2, \n",
    "      control = c(fnscale=-1, maxit=10000),\n",
    "      par = params1[c('b', 'cea','cel', 'cpa','ua','ul','sigma_1','sigma_2','sigma_3')]) -> fit2"
   ]
  },
  {
   "cell_type": "code",
   "execution_count": null,
   "metadata": {
    "collapsed": false
   },
   "outputs": [],
   "source": [
    "plot(A~time, data=simulate(LPA_model, params = params1,as.data.frame=T),type = 'b')"
   ]
  },
  {
   "cell_type": "markdown",
   "metadata": {},
   "source": [
    "# New Stuff"
   ]
  },
  {
   "cell_type": "code",
   "execution_count": 9,
   "metadata": {
    "collapsed": true
   },
   "outputs": [],
   "source": [
    "library(ggplot2)\n",
    "library(plyr)\n",
    "library(reshape2)\n",
    "library(pomp)\n",
    "library(magrittr)\n",
    "library(reshape2)\n",
    "library(foreach)\n",
    "stopifnot(packageVersion(\"pomp\")>=\"1.4.9\")"
   ]
  },
  {
   "cell_type": "code",
   "execution_count": 10,
   "metadata": {
    "collapsed": false
   },
   "outputs": [],
   "source": [
    "read.csv(\"./data/data.csv\") %>%subset(weeks <= 40, select=c(weeks,rep,L_obs,P_obs,A_obs)) -> dat\n",
    "dat$E_obs <- 0\n",
    "dat %>%\n",
    "  melt(id=c(\"weeks\",\"rep\")) %>%\n",
    "  acast(variable~rep~weeks) -> datarray;"
   ]
  },
  {
   "cell_type": "code",
   "execution_count": 11,
   "metadata": {
    "collapsed": true
   },
   "outputs": [],
   "source": [
    "stages.E <- 7\n",
    "stages.L <- 7\n",
    "stages.P <- 7\n",
    "stages.A <- 1"
   ]
  },
  {
   "cell_type": "code",
   "execution_count": 4,
   "metadata": {
    "collapsed": true
   },
   "outputs": [],
   "source": [
    "glob_snippet <- Csnippet(sprintf(\"\n",
    "#include <math.h>\n",
    "#define ESTAGES %d\n",
    "#define LSTAGES %d\n",
    "#define PSTAGES %d\n",
    "#define ASTAGES %d\n",
    "#define L_0 250\n",
    "#define P_0 5\n",
    "#define A_0 100\n",
    "\", stages.E, stages.L, stages.P, stages.A))"
   ]
  },
  {
   "cell_type": "code",
   "execution_count": 5,
   "metadata": {
    "collapsed": true
   },
   "outputs": [],
   "source": [
    "init_snippet <- Csnippet(\"\n",
    "double *E = &E1;\n",
    "double *L = &L1;\n",
    "double *P = &P1;\n",
    "\n",
    "int k;\n",
    "double E_tot = 0;\n",
    "double L_tot = 0;\n",
    "double P_tot = 0;\n",
    "for (k = 0; k < ESTAGES; k++) E_tot += E[k];\n",
    "for (k = 0; k < LSTAGES; k++) L_tot += L[k];\n",
    "for (k = 0; k < PSTAGES; k++) P_tot += P[k];\n",
    "\n",
    "double gamma_E = (ESTAGES / tau_E) * exp((-cel * L_tot - cea * A) / ESTAGES);\n",
    "double gamma_L = (LSTAGES / tau_L) * (1 - mu_L);\n",
    "double gamma_P = (PSTAGES / tau_P) * exp((-cpa * A) / ESTAGES);\n",
    "\n",
    "double mu_e = (ESTAGES / tau_E) * (1 - exp((-cel * L_tot - cea * A) / ESTAGES));\n",
    "double mu_l = (LSTAGES / tau_L) * mu_L;\n",
    "double mu_p = (PSTAGES / tau_P) * (1 - exp((-cpa * A) / ESTAGES));\n",
    "\n",
    "double L_rate[LSTAGES], P_rate[100] = {0};\n",
    "\n",
    "for (k = 0; k < LSTAGES; k++) L_rate[k] = pow(gamma_L, k);\n",
    "for (k = 0; k < PSTAGES; k++) P_rate[k] = pow(gamma_P, k);\n",
    "\n",
    "for (k = 0; k < ESTAGES; k++) E[k] = 0;\n",
    "reulermultinom(LSTAGES, L_0, &L_rate[0], 1, &L[0]);\n",
    "reulermultinom(PSTAGES, P_0, &P_rate[0], 1, &P[0]);\n",
    "A = 100;\")"
   ]
  },
  {
   "cell_type": "code",
   "execution_count": 6,
   "metadata": {
    "collapsed": true
   },
   "outputs": [],
   "source": [
    "rproc_snippet <- \n",
    "Csnippet(\"\n",
    "double *E = &E1;\n",
    "double *L = &L1;\n",
    "double *P = &P1;\n",
    "\n",
    "int k;\n",
    "double E_tot = 0;\n",
    "double L_tot = 0;\n",
    "double P_tot = 0;\n",
    "for (k = 0; k < ESTAGES; k++) E_tot += E[k];\n",
    "for (k = 0; k < LSTAGES; k++) L_tot += L[k];\n",
    "for (k = 0; k < PSTAGES; k++) P_tot += P[k];\n",
    "\n",
    "double gamma_E = (ESTAGES / tau_E) * exp((-cel * L_tot - cea * A) / ESTAGES);\n",
    "double gamma_L = (LSTAGES / tau_L) * (1 - mu_L);\n",
    "double gamma_P = (PSTAGES / tau_P) * exp((-cpa * A) / ESTAGES);\n",
    "\n",
    "double mu_e = (ESTAGES / tau_E) * (1 - exp((-cel * L_tot - cea * A) / ESTAGES));\n",
    "double mu_l = (LSTAGES / tau_L) * mu_L;\n",
    "double mu_p = (PSTAGES / tau_P) * (1 - exp((-cpa * A) / ESTAGES));\n",
    "\n",
    "double rate[2], etrans[28], ltrans[28], ptrans[28], adeath;\n",
    "\n",
    "// Calculate who goes where\n",
    "for (k = 0; k < ESTAGES; k++) {\n",
    "rate[0] = gamma_E;\n",
    "rate[1] = mu_e;\n",
    "reulermultinom(2,E[k],&rate[0],1,&etrans[2*k]);\n",
    "}\n",
    "\n",
    "for (k = 0; k < LSTAGES; k++) {\n",
    "rate[0] = gamma_L;\n",
    "rate[1] = mu_l;\n",
    "reulermultinom(2,L[k],&rate[0],1,&ltrans[2*k]);\n",
    "}\n",
    "\n",
    "for (k = 0; k < PSTAGES; k++) {\n",
    "rate[0] = gamma_P;\n",
    "rate[1] = mu_p;\n",
    "reulermultinom(2,P[k],&rate[0],1,&ptrans[2*k]);\n",
    "}\n",
    "\n",
    "reulermultinom(1,A,&mu_A,1,&adeath);\n",
    "\n",
    "// Bookkeeping\n",
    "for (k = 0; k < ESTAGES; k++) {\n",
    "E[k] -= (etrans[2*k]+etrans[2*k+1]);\n",
    "E[k+1] += etrans[2*k]; // E[ESTAGES] == L[0]!!\n",
    "}\n",
    "\n",
    "E[0] += rpois(b*A);\n",
    "\n",
    "for (k = 0; k < LSTAGES; k++) {\n",
    "L[k] -= (ltrans[2*k]+ltrans[2*k+1]);\n",
    "L[k+1] += ltrans[2*k]; // L[LSTAGES] == P[0]!!\n",
    "}\n",
    "\n",
    "for (k = 0; k < PSTAGES; k++) {\n",
    "P[k] -= (ptrans[2*k]+ptrans[2*k+1]);\n",
    "P[k+1] += ptrans[2*k]; // P[PSTAGES] == A[0]!!\n",
    "}\n",
    "A -= adeath;\n",
    "\")"
   ]
  },
  {
   "cell_type": "code",
   "execution_count": 7,
   "metadata": {
    "collapsed": false
   },
   "outputs": [],
   "source": [
    "dmeas_snippet <-Csnippet(\n",
    "\"\n",
    "const double *E = &E1;\n",
    "const double *L = &L1;\n",
    "const double *P = &P1;\n",
    "\n",
    "int k;\n",
    "double E_tot = 0;\n",
    "double L_tot = 0;\n",
    "double P_tot = 0;\n",
    "for (k = 0; k < ESTAGES; k++) E_tot += E[k];\n",
    "for (k = 0; k < LSTAGES; k++) L_tot += L[k];\n",
    "for (k = 0; k < PSTAGES; k++) P_tot += P[k];\n",
    "\n",
    "/*\n",
    "double eps = 0.000001;\n",
    "if((abs(L_obs - L_tot) > eps) ||\n",
    "   (abs(P_obs - P_tot) > eps) ||\n",
    "   (abs(A_obs - A) > eps)) {\n",
    "  lik = 0;\n",
    "} else {\n",
    "  lik = 1;\n",
    "}*/\n",
    "\n",
    "lik =   log(pnorm(L_obs + 0.5, L_tot, meas_sd, 1, 0) - pnorm(L_obs - 0.5, L_tot, meas_sd, 1, 0)) +\n",
    "        log(pnorm(P_obs + 0.5, P_tot, meas_sd, 1, 0) - pnorm(P_obs - 0.5, P_tot, meas_sd, 1, 0)) +\n",
    "        log(pnorm(A_obs + 0.5, A,     meas_sd, 1, 0) - pnorm(A_obs - 0.5, A,     meas_sd, 1, 0));\n",
    "\n",
    "if(isnan(lik))\n",
    "{\n",
    "printf(\\\"\\\\n\\\\nL_tot %f\\\", L_tot);\n",
    "printf(\\\"\\\\nP_tot %f\\\", P_tot);\n",
    "printf(\\\"\\\\nA_tot %f\\\", A);\n",
    "printf(\\\"\\\\nsd    %f\\\", meas_sd);\n",
    "printf(\\\"\\\\nb     %f\\\", b);\n",
    "printf(\\\"\\\\ncea   %f\\\", cea);\n",
    "printf(\\\"\\\\ncpa   %f\\\", cpa);\n",
    "printf(\\\"\\\\nmu_A  %f\\\", mu_A);\n",
    "printf(\\\"\\\\nmu_L  %f\\\", mu_L);\n",
    "printf(\\\"\\\\ntau_E %f\\\", tau_E);\n",
    "printf(\\\"\\\\ntau_L %f\\\", tau_L);\n",
    "printf(\\\"\\\\ntau_P %f\\\", tau_P);\n",
    "}\n",
    "\n",
    "\n",
    "lik = (give_log) ? lik : exp(lik);\n",
    "\n",
    "\")"
   ]
  },
  {
   "cell_type": "code",
   "execution_count": 8,
   "metadata": {
    "collapsed": false
   },
   "outputs": [],
   "source": [
    "rmeas_snippet <- \n",
    "Csnippet(\"\n",
    "const double *E = &E1;\n",
    "const double *L = &L1;\n",
    "const double *P = &P1;\n",
    "\n",
    "int k;\n",
    "double E_tot = 0;\n",
    "double L_tot = 0;\n",
    "double P_tot = 0;\n",
    "for (k = 0; k < ESTAGES; k++) E_tot += E[k];\n",
    "for (k = 0; k < LSTAGES; k++) L_tot += L[k];\n",
    "for (k = 0; k < PSTAGES; k++) P_tot += P[k];\n",
    "\n",
    "/*\n",
    "E_obs = E_tot;\n",
    "L_obs = L_tot;\n",
    "P_obs = P_tot;\n",
    "A_obs = A;\n",
    "*/\n",
    "\n",
    "E_obs = E_tot;\n",
    "L_obs = nearbyint(rnorm(L_tot, meas_sd));\n",
    "P_obs = nearbyint(rnorm(P_tot, meas_sd));\n",
    "A_obs = nearbyint(rnorm(A, meas_sd));\n",
    "\n",
    "\")"
   ]
  },
  {
   "cell_type": "code",
   "execution_count": 9,
   "metadata": {
    "collapsed": true
   },
   "outputs": [],
   "source": [
    "from_est <- Csnippet(\"\n",
    "Tb = exp(b);\n",
    "Tcea = expit(cea);\n",
    "Tcel = expit(cel);\n",
    "Tcpa = expit(cpa);\n",
    "Tmu_A = expit(mu_A);\n",
    "Tmu_L = expit(mu_L);\n",
    "Ttau_E = exp(tau_E);\n",
    "Ttau_L = exp(tau_L);\n",
    "Ttau_P = exp(tau_P);\n",
    "Tmeas_sd = exp(meas_sd);\n",
    "\")\n",
    "\n",
    "to_est <- Csnippet(\"\n",
    "Tb = log(b);\n",
    "Tcea = logit(cea);\n",
    "Tcel = logit(cel);\n",
    "Tcpa = logit(cpa);\n",
    "Tmu_A = logit(mu_A);\n",
    "Tmu_L = logit(mu_L);\n",
    "Ttau_E = log(tau_E);\n",
    "Ttau_L = log(tau_L);\n",
    "Ttau_P = log(tau_P);\n",
    "Tmeas_sd = log(meas_sd);\n",
    "\")"
   ]
  },
  {
   "cell_type": "code",
   "execution_count": 10,
   "metadata": {
    "collapsed": false
   },
   "outputs": [],
   "source": [
    "pomp(\n",
    "  data = subset(dat, rep==4),\n",
    "  times=\"weeks\", t0=0,\n",
    "  obsnames = c(\"E_obs\", \"L_obs\", \"P_obs\", \"A_obs\"),\n",
    "  statenames = c(sprintf(\"E%d\",1:stages.E),sprintf(\"L%d\",1:stages.L),sprintf(\"P%d\",1:stages.P),\"A\"),\n",
    "  paramnames = c(\"b\", \"cea\", \"cel\", \"cpa\", \"mu_A\", \"mu_L\", \"tau_E\", \"tau_L\", \"tau_P\", \"meas_sd\"),\n",
    "  globals = glob_snippet,\n",
    "  initializer = init_snippet,\n",
    "  rprocess = discrete.time.sim(\n",
    "    step.fun = rproc_snippet,\n",
    "    delta.t = 1/7),\n",
    "  dmeasure = dmeas_snippet,\n",
    "  rmeasure = rmeas_snippet,\n",
    "  toEstimationScale = to_est,\n",
    "  fromEstimationScale = from_est,\n",
    "  params = c(\"b\"=1.18702207924403,\n",
    "             \"cea\"=0.0132088702404268,\n",
    "             \"cel\"=0.0172244842038504,\n",
    "             \"cpa\"=0.00466955565765198,\n",
    "             \"mu_A\"=1.89532307252467e-05,\n",
    "             \"mu_L\"=0.0158937470126093,\n",
    "             \"tau_E\"=15.7219226675806,\n",
    "             \"tau_L\"=5.18906255435284,\n",
    "             \"tau_P\"=18.0248791283609,\n",
    "             \"meas_sd\" = 10)) -> model"
   ]
  },
  {
   "cell_type": "code",
   "execution_count": 11,
   "metadata": {
    "collapsed": true
   },
   "outputs": [],
   "source": [
    "defaultparams <- model@params"
   ]
  },
  {
   "cell_type": "code",
   "execution_count": 12,
   "metadata": {
    "collapsed": true
   },
   "outputs": [],
   "source": [
    "#ssr <- function(par) {\n",
    "#  total <- 0\n",
    "#  if(min(par) < 0){\n",
    "#    total <- -Inf\n",
    "#  }\n",
    "#  \n",
    "#  if(max(par[c('cea', 'cel', 'cpa')]) > 1){\n",
    "#    total <- -Inf\n",
    "#  }\n",
    "#\n",
    "#  sim <- simulate(model, nsim = 200, params = par)\n",
    "#\n",
    "#  for(i in 1:200){\n",
    "#    for(j in c(4)){ #, 11, 24)){\n",
    "#      total = total + sum(rowSums((datarray[c(\"L_obs\", \"P_obs\", \"A_obs\"),j,] - obs(sim[[i]])[c('L_obs','P_obs','A_obs'),])^2)^0.5)\n",
    "#    }\n",
    "#  }\n",
    "#  total\n",
    "#}"
   ]
  },
  {
   "cell_type": "code",
   "execution_count": 13,
   "metadata": {
    "collapsed": true
   },
   "outputs": [],
   "source": [
    "#fit1 <- optim(fn=ssr, par=defaultparams, control=c(maxit=100000))"
   ]
  },
  {
   "cell_type": "code",
   "execution_count": 14,
   "metadata": {
    "collapsed": true
   },
   "outputs": [],
   "source": [
    "#model <- pomp(model, params=fit1$par)"
   ]
  },
  {
   "cell_type": "code",
   "execution_count": 15,
   "metadata": {
    "collapsed": true
   },
   "outputs": [],
   "source": [
    "multiplot <- function(..., plotlist=NULL, cols) {\n",
    "    require(grid)\n",
    "\n",
    "    # Make a list from the ... arguments and plotlist\n",
    "    plots <- c(list(...), plotlist)\n",
    "\n",
    "    numPlots = length(plots)\n",
    "\n",
    "    # Make the panel\n",
    "    plotCols = cols                          # Number of columns of plots\n",
    "    plotRows = ceiling(numPlots/plotCols) # Number of rows needed, calculated from # of cols\n",
    "\n",
    "    # Set up the page\n",
    "    grid.newpage()\n",
    "    pushViewport(viewport(layout = grid.layout(plotRows, plotCols)))\n",
    "    vplayout <- function(x, y)\n",
    "        viewport(layout.pos.row = x, layout.pos.col = y)\n",
    "\n",
    "    # Make each plot, in the correct location\n",
    "    for (i in 1:numPlots) {\n",
    "        curRow = ceiling(i/plotCols)\n",
    "        curCol = (i-1) %% plotCols + 1\n",
    "        print(plots[[i]], vp = vplayout(curRow, curCol ))\n",
    "    }\n",
    "\n",
    "}"
   ]
  },
  {
   "cell_type": "code",
   "execution_count": 16,
   "metadata": {
    "collapsed": false
   },
   "outputs": [
    {
     "name": "stderr",
     "output_type": "stream",
     "text": [
      "Loading required package: grid\n"
     ]
    },
    {
     "data": {
      "image/png": "[encoded data removed]",
      "text/plain": [
       "plot without title"
      ]
     },
     "metadata": {
      "image/svg+xml": {
       "isolated": true
      }
     },
     "output_type": "display_data"
    }
   ],
   "source": [
    "sims <- simulate(model, nsim=20,as.data.frame=TRUE,include.data=TRUE)\n",
    "pl <- ggplot(sims,mapping=aes(x=time,y=L_obs,group=sim,color=sim==\"data\"))+geom_line()+guides(color=FALSE)\n",
    "pp <- ggplot(sims,mapping=aes(x=time,y=P_obs,group=sim,color=sim==\"data\"))+geom_line()+guides(color=FALSE)\n",
    "pa <- ggplot(sims,mapping=aes(x=time,y=A_obs,group=sim,color=sim==\"data\"))+geom_line()+guides(color=FALSE)\n",
    "multiplot(pl, pp, pa, cols=1);"
   ]
  },
  {
   "cell_type": "code",
   "execution_count": 17,
   "metadata": {
    "collapsed": false
   },
   "outputs": [
    {
     "name": "stderr",
     "output_type": "stream",
     "text": [
      "Warning message:\n",
      ": in ‘pfilter’: 1 filtering failure occurred."
     ]
    },
    {
     "data": {
      "text/html": [
       "-319.226307500098"
      ],
      "text/latex": [
       "-319.226307500098"
      ],
      "text/markdown": [
       "-319.226307500098"
      ],
      "text/plain": [
       "[1] -319.2263"
      ]
     },
     "metadata": {},
     "output_type": "display_data"
    }
   ],
   "source": [
    "pf <- pfilter(model, params = defaultparams, Np=1000)\n",
    "logLik(pf)"
   ]
  },
  {
   "cell_type": "code",
   "execution_count": 18,
   "metadata": {
    "collapsed": false
   },
   "outputs": [
    {
     "name": "stderr",
     "output_type": "stream",
     "text": [
      "Loading required package: iterators\n",
      "Loading required package: parallel\n"
     ]
    }
   ],
   "source": [
    "library(foreach);\n",
    "library(doParallel);\n",
    "registerDoParallel();"
   ]
  },
  {
   "cell_type": "code",
   "execution_count": 18,
   "metadata": {
    "collapsed": false
   },
   "outputs": [
    {
     "data": {
      "text/html": [
       "<dl class=dl-horizontal>\n",
       "\t<dt>1</dt>\n",
       "\t\t<dd>-358.024410371233</dd>\n",
       "\t<dt>se</dt>\n",
       "\t\t<dd>0.0595398876430896</dd>\n",
       "</dl>\n"
      ],
      "text/latex": [
       "\\begin{description*}\n",
       "\\item[1] -358.024410371233\n",
       "\\item[se] 0.0595398876430896\n",
       "\\end{description*}\n"
      ],
      "text/markdown": [
       "1\n",
       ":   -358.024410371233se\n",
       ":   0.0595398876430896\n",
       "\n"
      ],
      "text/plain": [
       "                         se \n",
       "-358.02441037    0.05953989 "
      ]
     },
     "metadata": {},
     "output_type": "display_data"
    }
   ],
   "source": [
    "stew(file=\"./output/pf2.rda\",{\n",
    "  t_pf <- system.time(\n",
    "    pf <- foreach(i=1:10,.packages='pomp',\n",
    "                  .options.multicore=list(set.seed=TRUE),\n",
    "                  .export=c(\"model\")\n",
    "    ) %dopar% {\n",
    "      pfilter(model,params=defaultparams,Np=10000)\n",
    "    }\n",
    "  )\n",
    "  n_pf <- getDoParWorkers()\n",
    "},seed=625904618,kind=\"L'Ecuyer\")\n",
    "\n",
    "(L_pf <- logmeanexp(sapply(pf,logLik),se=TRUE))"
   ]
  },
  {
   "cell_type": "code",
   "execution_count": 20,
   "metadata": {
    "collapsed": true
   },
   "outputs": [],
   "source": [
    "results <- as.data.frame(as.list(c(coef(pf[[1]]),loglik=L_pf[1],loglik=L_pf[2])))\n",
    "#write.csv(results,file=\"./output/model_params.csv\",row.names=FALSE)"
   ]
  },
  {
   "cell_type": "code",
   "execution_count": 14,
   "metadata": {
    "collapsed": false
   },
   "outputs": [],
   "source": [
    "stew(file=\"./output/box_search_local2.rda\",{\n",
    "  t_local_mif <- system.time({\n",
    "    mifs_local <- foreach(i=1:20,\n",
    "                          .packages='pomp',\n",
    "                          .combine=c, \n",
    "                          .options.multicore=list(set.seed=TRUE),\n",
    "                          .export=c(\"model\")\n",
    "    ) %dopar%  \n",
    "    {\n",
    "      mif2(\n",
    "        model,\n",
    "        start=defaultparams,\n",
    "        Np=2000,\n",
    "        Nmif=50,\n",
    "        cooling.type=\"geometric\",\n",
    "        cooling.fraction.50=0.5,\n",
    "        transform=TRUE,\n",
    "        rw.sd=rw.sd(b=0.02, cea=0.02, cel=0.02, cpa=0.02, mu_A=0.02, mu_L=0.02,\n",
    "                    tau_E=0.02, tau_L=0.02, tau_P=0.02, meas_sd = 0.02)\n",
    "      )\n",
    "    }\n",
    "  })\n",
    "},seed=482947940,kind=\"L'Ecuyer\")"
   ]
  },
  {
   "cell_type": "code",
   "execution_count": 15,
   "metadata": {
    "collapsed": false
   },
   "outputs": [
    {
     "data": {
      "image/png": "[encoded data removed]",
      "text/plain": [
       "plot without title"
      ]
     },
     "metadata": {
      "image/svg+xml": {
       "isolated": true
      }
     },
     "output_type": "display_data"
    }
   ],
   "source": [
    "ggplot(data=melt(conv.rec(mifs_local)),\n",
    "       aes(x=iteration,y=value,group=L1,color=factor(L1)))+\n",
    "  geom_line()+\n",
    "  guides(color=FALSE)+\n",
    "  facet_wrap(~variable,scales=\"free_y\")+\n",
    "  theme_bw()"
   ]
  },
  {
   "cell_type": "code",
   "execution_count": 23,
   "metadata": {
    "collapsed": false
   },
   "outputs": [],
   "source": [
    "stew(file=\"./output/lik_local.rda\",{\n",
    "  t_local_eval <- system.time({\n",
    "    results_local <- foreach(mf=mifs_local,\n",
    "                             .packages='pomp',\n",
    "                             .combine=rbind,\n",
    "                             .options.multicore=list(set.seed=TRUE)\n",
    "    ) %dopar% \n",
    "    {\n",
    "      evals <- replicate(10, logLik(pfilter(mf,Np=20000)))\n",
    "      ll <- logmeanexp(evals,se=TRUE)\n",
    "      c(coef(mf),loglik=ll[1],loglik=ll[2])\n",
    "    }\n",
    "  })\n",
    "},seed=900242057,kind=\"L'Ecuyer\")\n",
    "results_local <- as.data.frame(results_local)"
   ]
  },
  {
   "cell_type": "code",
   "execution_count": 24,
   "metadata": {
    "collapsed": false
   },
   "outputs": [
    {
     "data": {
      "image/png": "[encoded data removed]",
      "text/plain": [
       "plot without title"
      ]
     },
     "metadata": {
      "image/svg+xml": {
       "isolated": true
      }
     },
     "output_type": "display_data"
    }
   ],
   "source": [
    "pairs(~loglik+b+cea+cel+cpa+mu_A+mu_L+tau_E+tau_L+tau_P+meas_sd,data=results_local)"
   ]
  },
  {
   "cell_type": "code",
   "execution_count": 17,
   "metadata": {
    "collapsed": false
   },
   "outputs": [
    {
     "ename": "ERROR",
     "evalue": "Error in rbind(results, results_local[names(results)]): object 'results' not found\n",
     "output_type": "error",
     "traceback": [
      "Error in rbind(results, results_local[names(results)]): object 'results' not found\nTraceback:\n",
      "1. rbind(results, results_local[names(results)])"
     ]
    }
   ],
   "source": [
    "results <- rbind(results,results_local[names(results)])\n",
    "#write.csv(results,file=\"./output/model_params.csv\",row.names=FALSE)"
   ]
  },
  {
   "cell_type": "code",
   "execution_count": 26,
   "metadata": {
    "collapsed": false
   },
   "outputs": [],
   "source": [
    "params_box <- rbind(\n",
    "  b=c(0, 20),\n",
    "  cea=c(0, 1),\n",
    "  cel = c(0, 1),\n",
    "  cpa = c(0, 1),\n",
    "  mu_A = c(0, 1),\n",
    "  mu_L = c(0, 1),\n",
    "  tau_E = c(0, 14),\n",
    "  tau_L = c(0, 14),\n",
    "  tau_P = c(0, 14),\n",
    "  tau_A = c(0, 14),\n",
    "  sd_meas = c(0, 10)\n",
    ")"
   ]
  },
  {
   "cell_type": "code",
   "execution_count": 16,
   "metadata": {
    "collapsed": false
   },
   "outputs": [
    {
     "ename": "ERROR",
     "evalue": "Error in rbind(results, results_global[names(results)]): object 'results' not found\n",
     "output_type": "error",
     "traceback": [
      "Error in rbind(results, results_global[names(results)]): object 'results' not found\nTraceback:\n",
      "1. rbind(results, results_global[names(results)])"
     ]
    }
   ],
   "source": [
    "stew(file=\"./output/box_search_global1.rda\",{\n",
    "  n_global <- getDoParWorkers()\n",
    "  t_global <- system.time({\n",
    "    mf1 <- mifs_local[[1]]\n",
    "    guesses <- as.data.frame(apply(params_box,1,function(x)runif(300,x[1],x[2])))\n",
    "    results_global <- foreach(guess=iter(guesses,\"row\"), \n",
    "                              .packages='pomp', \n",
    "                              .combine=rbind,\n",
    "                              .options.multicore=list(set.seed=TRUE),\n",
    "                              .export=c(\"mf1\")\n",
    "    ) %dopar% \n",
    "    {\n",
    "      mf <- mif2(mf1,start=c(unlist(guess)))\n",
    "      mf <- mif2(mf,Nmif=100)\n",
    "      ll <- replicate(10,logLik(pfilter(mf,Np=100000)))\n",
    "      ll <- logmeanexp(ll,se=TRUE)\n",
    "      c(coef(mf),loglik=ll[1],loglik=ll[2])\n",
    "    }\n",
    "  })\n",
    "},seed=1270401374,kind=\"L'Ecuyer\")\n",
    "results_global <- as.data.frame(results_global)\n",
    "results <- rbind(results,results_global[names(results)])\n",
    "#write.csv(results,file=\"./output/model_params.csv\",row.names=FALSE)"
   ]
  },
  {
   "cell_type": "code",
   "execution_count": null,
   "metadata": {
    "collapsed": false
   },
   "outputs": [],
   "source": [
    "results_local"
   ]
  },
  {
   "cell_type": "code",
   "execution_count": null,
   "metadata": {
    "collapsed": false
   },
   "outputs": [],
   "source": [
    "library(plyr)\n",
    "all <- ldply( list(guess=guesses, result=subset(results, loglik > max(loglik)-0.000001) ), .id=\"type\")\n",
    "pairs(~loglik+b+mu_A+mu_L+tau_E+tau_L+tau_P+meas_sd, data=all, col=ifelse(all$type==\"guess\", grey(0.5), \"red\"), pch=16)"
   ]
  },
  {
   "cell_type": "code",
   "execution_count": 27,
   "metadata": {
    "collapsed": false
   },
   "outputs": [
    {
     "data": {
      "image/png": "[encoded data removed]",
      "text/plain": [
       "plot without title"
      ]
     },
     "metadata": {
      "image/svg+xml": {
       "isolated": true
      }
     },
     "output_type": "display_data"
    }
   ],
   "source": [
    "optim_params <- unlist(results_local[which.max(results_local$loglik),])\n",
    "sims <- simulate(model, params = optim_params, nsim=20,as.data.frame=TRUE,include.data=TRUE)\n",
    "pl <- ggplot(sims,mapping=aes(x=time,y=L_obs,group=sim,color=sim==\"data\"))+geom_line()+guides(color=FALSE)\n",
    "pp <- ggplot(sims,mapping=aes(x=time,y=P_obs,group=sim,color=sim==\"data\"))+geom_line()+guides(color=FALSE)\n",
    "pa <- ggplot(sims,mapping=aes(x=time,y=A_obs,group=sim,color=sim==\"data\"))+geom_line()+guides(color=FALSE)\n",
    "multiplot(pl, pp, pa, cols=1);"
   ]
  },
  {
   "cell_type": "code",
   "execution_count": 6,
   "metadata": {
    "collapsed": false
   },
   "outputs": [
    {
     "data": {
      "text/html": [
       "<table>\n",
       "<thead><tr><th></th><th scope=col>weeks</th><th scope=col>rep</th><th scope=col>L_obs</th><th scope=col>P_obs</th><th scope=col>A_obs</th><th scope=col>E_obs</th></tr></thead>\n",
       "<tbody>\n",
       "\t<tr><th scope=row>83</th><td>  0</td><td> 24</td><td>250</td><td>  5</td><td>100</td><td>  0</td></tr>\n",
       "\t<tr><th scope=row>84</th><td>  2</td><td> 24</td><td>  9</td><td>200</td><td>101</td><td>  0</td></tr>\n",
       "\t<tr><th scope=row>85</th><td>  4</td><td> 24</td><td>232</td><td>  6</td><td>214</td><td>  0</td></tr>\n",
       "\t<tr><th scope=row>86</th><td>  6</td><td> 24</td><td>  2</td><td>185</td><td>218</td><td>  0</td></tr>\n",
       "\t<tr><th scope=row>87</th><td>  8</td><td> 24</td><td> 83</td><td>  1</td><td>287</td><td>  0</td></tr>\n",
       "\t<tr><th scope=row>88</th><td> 10</td><td> 24</td><td>  7</td><td> 53</td><td>287</td><td>  0</td></tr>\n",
       "\t<tr><th scope=row>89</th><td> 12</td><td> 24</td><td> 41</td><td>  6</td><td>310</td><td>  0</td></tr>\n",
       "\t<tr><th scope=row>90</th><td> 14</td><td> 24</td><td> 13</td><td> 21</td><td>313</td><td>  0</td></tr>\n",
       "\t<tr><th scope=row>91</th><td> 16</td><td> 24</td><td> 49</td><td>  6</td><td>319</td><td>  0</td></tr>\n",
       "\t<tr><th scope=row>92</th><td> 18</td><td> 24</td><td> 23</td><td> 29</td><td>320</td><td>  0</td></tr>\n",
       "\t<tr><th scope=row>93</th><td> 20</td><td> 24</td><td> 41</td><td> 11</td><td>326</td><td>  0</td></tr>\n",
       "\t<tr><th scope=row>94</th><td> 22</td><td> 24</td><td> 26</td><td> 32</td><td>334</td><td>  0</td></tr>\n",
       "\t<tr><th scope=row>95</th><td> 24</td><td> 24</td><td> 37</td><td> 17</td><td>335</td><td>  0</td></tr>\n",
       "\t<tr><th scope=row>96</th><td> 26</td><td> 24</td><td> 26</td><td> 21</td><td>337</td><td>  0</td></tr>\n",
       "\t<tr><th scope=row>97</th><td> 28</td><td> 24</td><td> 33</td><td> 21</td><td>340</td><td>  0</td></tr>\n",
       "\t<tr><th scope=row>98</th><td> 30</td><td> 24</td><td> 31</td><td> 16</td><td>346</td><td>  0</td></tr>\n",
       "\t<tr><th scope=row>99</th><td> 32</td><td> 24</td><td> 34</td><td> 22</td><td>348</td><td>  0</td></tr>\n",
       "\t<tr><th scope=row>100</th><td> 34</td><td> 24</td><td> 23</td><td> 14</td><td>351</td><td>  0</td></tr>\n",
       "\t<tr><th scope=row>101</th><td> 36</td><td> 24</td><td> 42</td><td> 11</td><td>353</td><td>  0</td></tr>\n",
       "\t<tr><th scope=row>102</th><td> 38</td><td> 24</td><td> 31</td><td> 24</td><td>351</td><td>  0</td></tr>\n",
       "\t<tr><th scope=row>103</th><td> 40</td><td> 24</td><td> 29</td><td> 17</td><td>354</td><td>  0</td></tr>\n",
       "</tbody>\n",
       "</table>\n"
      ],
      "text/latex": [
       "\\begin{tabular}{r|llllll}\n",
       "  & weeks & rep & L\\_obs & P\\_obs & A\\_obs & E\\_obs\\\\\n",
       "\\hline\n",
       "\t83 &   0 &  24 & 250 &   5 & 100 &   0\\\\\n",
       "\t84 &   2 &  24 &   9 & 200 & 101 &   0\\\\\n",
       "\t85 &   4 &  24 & 232 &   6 & 214 &   0\\\\\n",
       "\t86 &   6 &  24 &   2 & 185 & 218 &   0\\\\\n",
       "\t87 &   8 &  24 &  83 &   1 & 287 &   0\\\\\n",
       "\t88 &  10 &  24 &   7 &  53 & 287 &   0\\\\\n",
       "\t89 &  12 &  24 &  41 &   6 & 310 &   0\\\\\n",
       "\t90 &  14 &  24 &  13 &  21 & 313 &   0\\\\\n",
       "\t91 &  16 &  24 &  49 &   6 & 319 &   0\\\\\n",
       "\t92 &  18 &  24 &  23 &  29 & 320 &   0\\\\\n",
       "\t93 &  20 &  24 &  41 &  11 & 326 &   0\\\\\n",
       "\t94 &  22 &  24 &  26 &  32 & 334 &   0\\\\\n",
       "\t95 &  24 &  24 &  37 &  17 & 335 &   0\\\\\n",
       "\t96 &  26 &  24 &  26 &  21 & 337 &   0\\\\\n",
       "\t97 &  28 &  24 &  33 &  21 & 340 &   0\\\\\n",
       "\t98 &  30 &  24 &  31 &  16 & 346 &   0\\\\\n",
       "\t99 &  32 &  24 &  34 &  22 & 348 &   0\\\\\n",
       "\t100 &  34 &  24 &  23 &  14 & 351 &   0\\\\\n",
       "\t101 &  36 &  24 &  42 &  11 & 353 &   0\\\\\n",
       "\t102 &  38 &  24 &  31 &  24 & 351 &   0\\\\\n",
       "\t103 &  40 &  24 &  29 &  17 & 354 &   0\\\\\n",
       "\\end{tabular}\n"
      ],
      "text/plain": [
       "    weeks rep L_obs P_obs A_obs E_obs\n",
       "83      0  24   250     5   100     0\n",
       "84      2  24     9   200   101     0\n",
       "85      4  24   232     6   214     0\n",
       "86      6  24     2   185   218     0\n",
       "87      8  24    83     1   287     0\n",
       "88     10  24     7    53   287     0\n",
       "89     12  24    41     6   310     0\n",
       "90     14  24    13    21   313     0\n",
       "91     16  24    49     6   319     0\n",
       "92     18  24    23    29   320     0\n",
       "93     20  24    41    11   326     0\n",
       "94     22  24    26    32   334     0\n",
       "95     24  24    37    17   335     0\n",
       "96     26  24    26    21   337     0\n",
       "97     28  24    33    21   340     0\n",
       "98     30  24    31    16   346     0\n",
       "99     32  24    34    22   348     0\n",
       "100    34  24    23    14   351     0\n",
       "101    36  24    42    11   353     0\n",
       "102    38  24    31    24   351     0\n",
       "103    40  24    29    17   354     0"
      ]
     },
     "metadata": {},
     "output_type": "display_data"
    }
   ],
   "source": [
    "subset(dat, rep==24)"
   ]
  },
  {
   "cell_type": "code",
   "execution_count": null,
   "metadata": {
    "collapsed": true
   },
   "outputs": [],
   "source": []
  }
 ],
 "metadata": {
  "kernelspec": {
   "display_name": "R",
   "language": "R",
   "name": "ir"
  },
  "language_info": {
   "codemirror_mode": "r",
   "file_extension": ".r",
   "mimetype": "text/x-r-source",
   "name": "R",
   "pygments_lexer": "r",
   "version": "3.3.1"
  }
 },
 "nbformat": 4,
 "nbformat_minor": 0
}
